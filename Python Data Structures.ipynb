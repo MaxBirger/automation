{
 "cells": [
  {
   "cell_type": "markdown",
   "metadata": {},
   "source": [
    "# Python Data Structures Part 1\n",
    "A **data structure** refers to the type of information a computer stores. Different data structures have different properties, just like their real life counterparts.\n",
    "\n",
    "## BOARD MEMBER FORM QUIZ: Submit your challenges <a href = \"https://forms.gle/orUAywnt4DYDSNqW8\">here</a>\n",
    "\n",
    "\n",
    "<u>**TO RUN A CODE CELL, HIT SHIFT+ENTER**</u>\n",
    "\n",
    "## Table of Contents\n",
    "\n",
    "* **Python Number Types**\n",
    "    * <a href=\"#Basic Operations\">Basic Operations</a>\n",
    "        * Addition, Subtraction, Multiplication, Division\n",
    "        * Exponents and Roots\n",
    "    * <a href=\"#Special Operations and PEMDAS\">Special Operations and PEMDAS</a>\n",
    "        * Modulo\n",
    "        * abs()\n",
    "        * round()\n",
    "        * PEMDAS\n",
    "    * <a href = \"#Challenge 1\">Challenge 1: Triangles</a>\n",
    "    * <a href = \"#Challenge 2\">Challenge 2: Quadratic Equation</a>\n",
    "* **Python Variables**\n",
    "    * <a href = \"#Creating a Variable\">Creating a Variable</a>\n",
    "    * <a href = \"#Reassigning a Variable\">Reassigning a Variable</a>\n",
    "        * Revisiting Challenge 1\n",
    "    * <a href = \"#Common Mistakes with Variables\">Common Mistakes with Variables</a>\n",
    "    * <a href = \"#Challenge 3\">Challenge 3: Fix Update Quadratic</a>\n",
    "    * <a href = \"#Challenge 4\">Challenge 4: Switch Variables</a>\n",
    "* **Python Strings**\n",
    "    * <a href = \"#String Basics\">String Basics</a>\n",
    "        * Creating a String\n",
    "        * String Concatenation\n",
    "        * Multi-line Strings\n",
    "        * Escape Sequences\n",
    "    * <a href = \"#Manipulating Strings\">Manipulating Strings</a>\n",
    "        * String Operations and Methods\n",
    "            * Multiplying Strings\n",
    "            * String Methods\n",
    "            * Immutability of Strings\n",
    "        * String Indexing and Slicing\n",
    "            * Applications of Step Size\n",
    "        * String Formatting\n",
    "    * <a href = \"#Challenge 5\">Challenge 5: Censorship</a>\n",
    "    * <a href = \"#Challenge 6\">Challenge 6: Untangle the String</a>\n",
    "\n",
    "# Python Number Types\n",
    "There are two main number types in coding:\n",
    "* **Integers**: Whole numbers from -2,147,483,648 to 2,147,483,648. This is because integers are made up of 32 bits of space. Since computers run on binary (1 or 0), 2,147,483,648 is the largest number that can be represented with 32 binary characters. <u>As of Python 3, this is no longer an issue.</u>\n",
    "* **Float**: Decimals\n",
    "<a id=\"Basic Operations\"></a>\n",
    "### Basic Operations\n",
    "#### Addition and Subtraction"
   ]
  },
  {
   "cell_type": "code",
   "execution_count": 26,
   "metadata": {},
   "outputs": [
    {
     "data": {
      "text/plain": [
       "16"
      ]
     },
     "execution_count": 26,
     "metadata": {},
     "output_type": "execute_result"
    }
   ],
   "source": [
    "# Note: Comments begin with a hashtag and last one line\n",
    "# You can use python like a calculator\n",
    "12 + 4"
   ]
  },
  {
   "cell_type": "code",
   "execution_count": 27,
   "metadata": {},
   "outputs": [
    {
     "data": {
      "text/plain": [
       "8"
      ]
     },
     "execution_count": 27,
     "metadata": {},
     "output_type": "execute_result"
    }
   ],
   "source": [
    "12-4"
   ]
  },
  {
   "cell_type": "markdown",
   "metadata": {},
   "source": [
    "#### Division and Multiplication"
   ]
  },
  {
   "cell_type": "code",
   "execution_count": 28,
   "metadata": {},
   "outputs": [
    {
     "data": {
      "text/plain": [
       "8.0"
      ]
     },
     "execution_count": 28,
     "metadata": {},
     "output_type": "execute_result"
    }
   ],
   "source": [
    "# Dividing changes int types into float types\n",
    "16/2"
   ]
  },
  {
   "cell_type": "code",
   "execution_count": 29,
   "metadata": {},
   "outputs": [
    {
     "data": {
      "text/plain": [
       "float"
      ]
     },
     "execution_count": 29,
     "metadata": {},
     "output_type": "execute_result"
    }
   ],
   "source": [
    "# type() checks the type of a data structure or variable\n",
    "type(16/2)"
   ]
  },
  {
   "cell_type": "code",
   "execution_count": 30,
   "metadata": {},
   "outputs": [
    {
     "data": {
      "text/plain": [
       "int"
      ]
     },
     "execution_count": 30,
     "metadata": {},
     "output_type": "execute_result"
    }
   ],
   "source": [
    "type(16)"
   ]
  },
  {
   "cell_type": "code",
   "execution_count": 31,
   "metadata": {},
   "outputs": [
    {
     "data": {
      "text/plain": [
       "int"
      ]
     },
     "execution_count": 31,
     "metadata": {},
     "output_type": "execute_result"
    }
   ],
   "source": [
    "type(2)"
   ]
  },
  {
   "cell_type": "code",
   "execution_count": 32,
   "metadata": {},
   "outputs": [
    {
     "data": {
      "text/plain": [
       "20"
      ]
     },
     "execution_count": 32,
     "metadata": {},
     "output_type": "execute_result"
    }
   ],
   "source": [
    "# Multiplying numbers\n",
    "4*5"
   ]
  },
  {
   "cell_type": "code",
   "execution_count": 33,
   "metadata": {},
   "outputs": [
    {
     "data": {
      "text/plain": [
       "-4"
      ]
     },
     "execution_count": 33,
     "metadata": {},
     "output_type": "execute_result"
    }
   ],
   "source": [
    "# Negatives work too!\n",
    "-4*1"
   ]
  },
  {
   "cell_type": "markdown",
   "metadata": {},
   "source": [
    "#### abs() and round()\n",
    "If n represents a number, **abs(n)** gets the absolute value of n (removes negatives) and **round(n)** rounds n to the nearest integer number (positive and negative whole numbers)"
   ]
  },
  {
   "cell_type": "code",
   "execution_count": 34,
   "metadata": {},
   "outputs": [
    {
     "data": {
      "text/plain": [
       "169"
      ]
     },
     "execution_count": 34,
     "metadata": {},
     "output_type": "execute_result"
    }
   ],
   "source": [
    "abs(-100) + abs(-69)"
   ]
  },
  {
   "cell_type": "code",
   "execution_count": 35,
   "metadata": {},
   "outputs": [
    {
     "data": {
      "text/plain": [
       "1"
      ]
     },
     "execution_count": 35,
     "metadata": {},
     "output_type": "execute_result"
    }
   ],
   "source": [
    "round(1.2)"
   ]
  },
  {
   "cell_type": "code",
   "execution_count": 36,
   "metadata": {},
   "outputs": [
    {
     "data": {
      "text/plain": [
       "2"
      ]
     },
     "execution_count": 36,
     "metadata": {},
     "output_type": "execute_result"
    }
   ],
   "source": [
    "round(1.5)"
   ]
  },
  {
   "cell_type": "code",
   "execution_count": 37,
   "metadata": {},
   "outputs": [
    {
     "data": {
      "text/plain": [
       "2"
      ]
     },
     "execution_count": 37,
     "metadata": {},
     "output_type": "execute_result"
    }
   ],
   "source": [
    "# If the decimal is .5, then even numbers round down and odd numbers round up\n",
    "round(2.5)\n",
    "# notice that round(2.5) --> 2, but round(1.5) --> 2"
   ]
  },
  {
   "cell_type": "markdown",
   "metadata": {},
   "source": [
    "#### Exponents and Getting the Root"
   ]
  },
  {
   "cell_type": "code",
   "execution_count": 38,
   "metadata": {},
   "outputs": [
    {
     "data": {
      "text/plain": [
       "8"
      ]
     },
     "execution_count": 38,
     "metadata": {},
     "output_type": "execute_result"
    }
   ],
   "source": [
    "# Exponents\n",
    "2**3 # This is the same as 2^3"
   ]
  },
  {
   "cell_type": "code",
   "execution_count": 39,
   "metadata": {},
   "outputs": [
    {
     "data": {
      "text/plain": [
       "2985984"
      ]
     },
     "execution_count": 39,
     "metadata": {},
     "output_type": "execute_result"
    }
   ],
   "source": [
    "12**6 # This is the same as 12^6"
   ]
  },
  {
   "cell_type": "code",
   "execution_count": 40,
   "metadata": {},
   "outputs": [
    {
     "data": {
      "text/plain": [
       "2.0"
      ]
     },
     "execution_count": 40,
     "metadata": {},
     "output_type": "execute_result"
    }
   ],
   "source": [
    "# To get the root, use exponent fractions\n",
    "# To get the nth root of a number, you need its inverse as the exponent\n",
    "8**(1/3) # Same as 8^(1/3), which is the same as sqrt(8)"
   ]
  },
  {
   "cell_type": "markdown",
   "metadata": {},
   "source": [
    "<a id = \"Special Operations and PEMDAS\"></a>\n",
    "### Special Operations and PEMDAS\n",
    "#### Modulo Operator\n",
    "> The **%**, modulo operator, gives the remainder of a division function"
   ]
  },
  {
   "cell_type": "code",
   "execution_count": 41,
   "metadata": {},
   "outputs": [
    {
     "data": {
      "text/plain": [
       "1.75"
      ]
     },
     "execution_count": 41,
     "metadata": {},
     "output_type": "execute_result"
    }
   ],
   "source": [
    "# Dividing\n",
    "7/4"
   ]
  },
  {
   "cell_type": "code",
   "execution_count": 42,
   "metadata": {},
   "outputs": [
    {
     "data": {
      "text/plain": [
       "3"
      ]
     },
     "execution_count": 42,
     "metadata": {},
     "output_type": "execute_result"
    }
   ],
   "source": [
    "# Modulo\n",
    "7%4"
   ]
  },
  {
   "cell_type": "markdown",
   "metadata": {},
   "source": [
    "*Example Application: Using the Modulo to Check for Evens*"
   ]
  },
  {
   "cell_type": "code",
   "execution_count": 43,
   "metadata": {},
   "outputs": [
    {
     "data": {
      "text/plain": [
       "0"
      ]
     },
     "execution_count": 43,
     "metadata": {},
     "output_type": "execute_result"
    }
   ],
   "source": [
    "# If remainder of number%2 = 0, number is even\n",
    "20%2 "
   ]
  },
  {
   "cell_type": "code",
   "execution_count": 44,
   "metadata": {},
   "outputs": [
    {
     "data": {
      "text/plain": [
       "1"
      ]
     },
     "execution_count": 44,
     "metadata": {},
     "output_type": "execute_result"
    }
   ],
   "source": [
    "# This is not an even number\n",
    "21%2"
   ]
  },
  {
   "cell_type": "markdown",
   "metadata": {},
   "source": [
    "#### PEMDAS\n",
    "* Python follows PEMDAS Rules:\n",
    "    1. **P**arenthesis\n",
    "    2. **E**xponents\n",
    "    3. **M**ultiplication and **D**ivison (Left to Right)\n",
    "    4. **A**ddition and **S**ubtraction (Left to Right)"
   ]
  },
  {
   "cell_type": "code",
   "execution_count": 45,
   "metadata": {},
   "outputs": [
    {
     "data": {
      "text/plain": [
       "18"
      ]
     },
     "execution_count": 45,
     "metadata": {},
     "output_type": "execute_result"
    }
   ],
   "source": [
    "# Addition in parenthesis done first\n",
    "(4+5)*2 # --> (4+5)*2 --> 9*2 --> 18"
   ]
  },
  {
   "cell_type": "code",
   "execution_count": 46,
   "metadata": {},
   "outputs": [
    {
     "data": {
      "text/plain": [
       "14"
      ]
     },
     "execution_count": 46,
     "metadata": {},
     "output_type": "execute_result"
    }
   ],
   "source": [
    "# Multiplication is done first\n",
    "4+5*2 # --> 4+5*2 --> 4+10 --> 14"
   ]
  },
  {
   "cell_type": "code",
   "execution_count": 47,
   "metadata": {},
   "outputs": [
    {
     "data": {
      "text/plain": [
       "7.5"
      ]
     },
     "execution_count": 47,
     "metadata": {},
     "output_type": "execute_result"
    }
   ],
   "source": [
    "# Multiplication and Divison are evaluated from left to right\n",
    "5*3/2 #--> 5*3/2 --> 15/2 --> 7.5"
   ]
  },
  {
   "cell_type": "code",
   "execution_count": 48,
   "metadata": {},
   "outputs": [
    {
     "data": {
      "text/plain": [
       "3.3333333333333335"
      ]
     },
     "execution_count": 48,
     "metadata": {},
     "output_type": "execute_result"
    }
   ],
   "source": [
    "# Even though M comes before D in PEMDAS, multiplication and\n",
    "5/3*2"
   ]
  },
  {
   "cell_type": "markdown",
   "metadata": {},
   "source": [
    "<a id=\"Challenge 1\"></a>\n",
    "### Challenge 1 (Easy): Triangles\n",
    "<img src=\"data:image/png;base64,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\">\n",
    "Find the area of a triangle that has a base of 17.25 ft and a height of 8 ft using python. (A = <sup>1</sup>/<sub>2</sub>bh)"
   ]
  },
  {
   "cell_type": "code",
   "execution_count": 49,
   "metadata": {},
   "outputs": [],
   "source": [
    "# Write your code here:\n"
   ]
  },
  {
   "cell_type": "markdown",
   "metadata": {},
   "source": [
    "<a id = \"Challenge 2\"></a>\n",
    "### Challenge 2 (Harder): Quadratic Equation\n",
    "<img src=\"https://cdn.kastatic.org/googleusercontent/nI2riiPBcl9hZ22KKdYZGFmsVNhcKLiuwPly9l1tU5BMaqcOs9bfPKRyoGAFgK-PNpc-c7x_tNuskGdzawvy_Pza\" height=\"50px\"/>\n",
    "\n",
    "Find the roots of the following equation *only* using python (trust me you really don't want to try factoring this):\n",
    "\n",
    "# <center>3x<sup>2</sup> + 201x - 414 </center>"
   ]
  },
  {
   "cell_type": "code",
   "execution_count": 50,
   "metadata": {},
   "outputs": [],
   "source": [
    "# Write your code here:\n"
   ]
  },
  {
   "cell_type": "code",
   "execution_count": 51,
   "metadata": {},
   "outputs": [
    {
     "data": {
      "text/html": [
       "<h2>Answers to Challenges</h2><hr>"
      ],
      "text/plain": [
       "<IPython.core.display.HTML object>"
      ]
     },
     "metadata": {},
     "output_type": "display_data"
    },
    {
     "data": {
      "application/vnd.jupyter.widget-view+json": {
       "model_id": "ec15c71873224137b9e18b778298f761",
       "version_major": 2,
       "version_minor": 0
      },
      "text/plain": [
       "Button(description='Answer to #1', style=ButtonStyle())"
      ]
     },
     "metadata": {},
     "output_type": "display_data"
    },
    {
     "data": {
      "application/vnd.jupyter.widget-view+json": {
       "model_id": "805dbdcabdcc4217823f87747422a2f3",
       "version_major": 2,
       "version_minor": 0
      },
      "text/plain": [
       "Button(description='Answer to #2', style=ButtonStyle())"
      ]
     },
     "metadata": {},
     "output_type": "display_data"
    },
    {
     "data": {
      "application/vnd.jupyter.widget-view+json": {
       "model_id": "9f18323e00bc4ed3ae13b1088d4e4b5e",
       "version_major": 2,
       "version_minor": 0
      },
      "text/plain": [
       "Output()"
      ]
     },
     "metadata": {},
     "output_type": "display_data"
    },
    {
     "data": {
      "text/html": [
       "<script>\n",
       "code_show=true;\n",
       "function code_toggle() {\n",
       "    if (code_show){\n",
       "        $('div.cell.code_cell.rendered.selected div.input').hide();\n",
       "    } else {\n",
       "        $('div.cell.code_cell.rendered.selected div.input').show();\n",
       "    }\n",
       "    code_show = !code_show\n",
       "} \n",
       "$( document ).ready(code_toggle);\n",
       "</script>\n",
       "Don't look, but I've hidden this cell's code (I didn't want to spoil the answers). If you're curious, you can click <a href=\"javascript:code_toggle()\">here</a> to look at the contents\n"
      ],
      "text/plain": [
       "<IPython.core.display.HTML object>"
      ]
     },
     "metadata": {},
     "output_type": "display_data"
    }
   ],
   "source": [
    "from IPython.display import HTML\n",
    "from IPython.display import display\n",
    "import ipywidgets as widgets\n",
    "\n",
    "tag = HTML('''<script>\n",
    "code_show=true;\n",
    "function code_toggle() {\n",
    "    if (code_show){\n",
    "        $('div.cell.code_cell.rendered.selected div.input').hide();\n",
    "    } else {\n",
    "        $('div.cell.code_cell.rendered.selected div.input').show();\n",
    "    }\n",
    "    code_show = !code_show\n",
    "} \n",
    "$( document ).ready(code_toggle);\n",
    "</script>\n",
    "Don't look, but I've hidden this cell's code (I didn't want to spoil the answers). If you're curious, you can click <a href=\"javascript:code_toggle()\">here</a> to look at the contents\n",
    "''')\n",
    "############### Actual Code ##################\n",
    "answer_button_1 = widgets.Button(\n",
    "    description=\"Answer to #1\"\n",
    ")\n",
    "answer_button_2 = widgets.Button(\n",
    "    description=\"Answer to #2\"\n",
    ")\n",
    "def challenge_1(b):\n",
    "    with output:\n",
    "        output.clear_output()\n",
    "        print(\"The area is 69. (1/2)*17.25*4\")\n",
    "def challenge_2(b):\n",
    "    with output:\n",
    "        output.clear_output()\n",
    "        print(\"The roots are -69 and 2. \\n\\n (-201+(201**2-4*3*-414)**(1/2))/(2*3) = -69 \\n\\n (-201-(201**2-4*3*-414)**(1/2))/(2*3) = 2\")\n",
    "answer_button_1.on_click(challenge_1)\n",
    "answer_button_2.on_click(challenge_2)\n",
    "output = widgets.Output()\n",
    "display(HTML(\"<h2>Answers to Challenges</h2><hr>\"),answer_button_1, answer_button_2, output, tag)"
   ]
  },
  {
   "cell_type": "markdown",
   "metadata": {},
   "source": [
    "# Python Variables\n",
    "<img src=\"https://inventwithpython.com/chapter2_files/image007.jpg\">\n",
    "\n",
    "Calculating numbers can be useful, but it would be even better if you could store them! **Variables** are a core part of programming, and are like little boxes that can hold different data structures.\n",
    "\n",
    "> *To create a variable in python, write any variable name and put an equals sign after it*\n",
    "    * | Ex: i_wish_i_had_a_dog = 12\n",
    "\n",
    "In other programming languages, you'd have to put other things in front of that variable name. \n",
    "* In Javascript, you had to start off with either **let** or **var**. \n",
    "* In Java and C#, you had to write the type of the variable. \n",
    "\n",
    "Python's an **interpreter language**, which means that it doesn't go overboard with syntax. This is good for your fingers, but makes the code less readable.\n",
    "<a id = \"Creating a Variable\"></a>\n",
    "### Creating a Variable\n",
    "#### Names are arbitrary"
   ]
  },
  {
   "cell_type": "code",
   "execution_count": 52,
   "metadata": {},
   "outputs": [
    {
     "data": {
      "text/plain": [
       "25.0"
      ]
     },
     "execution_count": 52,
     "metadata": {},
     "output_type": "execute_result"
    }
   ],
   "source": [
    "# the names you give variables are like labels, and can be arbitrary\n",
    "eggs = 15\n",
    "bacon = 10.0\n",
    "eggs + bacon"
   ]
  },
  {
   "cell_type": "markdown",
   "metadata": {},
   "source": [
    "#### Checking the Type of a Variable\n",
    "So sometimes, it's helpful to check the type of a variable because it's never explicitly stated"
   ]
  },
  {
   "cell_type": "code",
   "execution_count": 53,
   "metadata": {},
   "outputs": [
    {
     "data": {
      "text/plain": [
       "int"
      ]
     },
     "execution_count": 53,
     "metadata": {},
     "output_type": "execute_result"
    }
   ],
   "source": [
    "type(eggs)"
   ]
  },
  {
   "cell_type": "code",
   "execution_count": 54,
   "metadata": {},
   "outputs": [
    {
     "data": {
      "text/plain": [
       "float"
      ]
     },
     "execution_count": 54,
     "metadata": {},
     "output_type": "execute_result"
    }
   ],
   "source": [
    "type(bacon)"
   ]
  },
  {
   "cell_type": "markdown",
   "metadata": {},
   "source": [
    "<a id = \"Reassigning Variables\"></a>\n",
    "### Reassigning Variables\n",
    "\n",
    "#### Reworking our numbers challenge code\n",
    "It would've been a lot easier to use variables in our previous numbers challenge!\n",
    "\n",
    "#### Revisiting Challenge 1: Area of a Triangle"
   ]
  },
  {
   "cell_type": "code",
   "execution_count": 55,
   "metadata": {},
   "outputs": [],
   "source": [
    "base = 17.25\n",
    "height = 8\n",
    "area_triangle = (1/2)*base*height\n",
    "# Why does nothing come out when you enter the code?"
   ]
  },
  {
   "cell_type": "code",
   "execution_count": 56,
   "metadata": {},
   "outputs": [
    {
     "data": {
      "text/plain": [
       "69.0"
      ]
     },
     "execution_count": 56,
     "metadata": {},
     "output_type": "execute_result"
    }
   ],
   "source": [
    "# That's because you only created and gave a value to a variable\n",
    "# You have to actually call the variable:\n",
    "area_triangle"
   ]
  },
  {
   "cell_type": "code",
   "execution_count": 57,
   "metadata": {},
   "outputs": [
    {
     "data": {
      "text/plain": [
       "420"
      ]
     },
     "execution_count": 57,
     "metadata": {},
     "output_type": "execute_result"
    }
   ],
   "source": [
    "# Now let's try changing the base variable\n",
    "base = 420\n",
    "base"
   ]
  },
  {
   "cell_type": "code",
   "execution_count": 58,
   "metadata": {},
   "outputs": [
    {
     "data": {
      "text/plain": [
       "69.0"
      ]
     },
     "execution_count": 58,
     "metadata": {},
     "output_type": "execute_result"
    }
   ],
   "source": [
    "area_triangle"
   ]
  },
  {
   "cell_type": "code",
   "execution_count": 59,
   "metadata": {},
   "outputs": [],
   "source": [
    "# Notice how the area_triangle doesn't change!\n",
    "# After you create a variable, it keeps the value you give it\n",
    "# To change the area of the triangle again, re-run the code:\n",
    "area_triangle = (1/2)*base*height"
   ]
  },
  {
   "cell_type": "code",
   "execution_count": 60,
   "metadata": {},
   "outputs": [
    {
     "data": {
      "text/plain": [
       "1680.0"
      ]
     },
     "execution_count": 60,
     "metadata": {},
     "output_type": "execute_result"
    }
   ],
   "source": [
    "# now area_triangle has been updated!\n",
    "area_triangle"
   ]
  },
  {
   "cell_type": "markdown",
   "metadata": {},
   "source": [
    "<a id = \"Common Mistakes with Variables\"></a>\n",
    "### Common Mistakes with Variables\n",
    "#### You used the wrong variable name\n",
    "In this example, the variable **number_of_circles** was declared, but the multiplication was done with ***number_of_circlee***"
   ]
  },
  {
   "cell_type": "code",
   "execution_count": 61,
   "metadata": {},
   "outputs": [
    {
     "ename": "NameError",
     "evalue": "name 'number_of_circlee' is not defined",
     "output_type": "error",
     "traceback": [
      "\u001b[0;31m---------------------------------------------------------------------------\u001b[0m",
      "\u001b[0;31mNameError\u001b[0m                                 Traceback (most recent call last)",
      "\u001b[0;32m<ipython-input-61-c15e2c823639>\u001b[0m in \u001b[0;36m<module>\u001b[0;34m\u001b[0m\n\u001b[1;32m      1\u001b[0m \u001b[0mnumber_of_circles\u001b[0m \u001b[0;34m=\u001b[0m \u001b[0;36m12\u001b[0m\u001b[0;34m\u001b[0m\u001b[0;34m\u001b[0m\u001b[0m\n\u001b[1;32m      2\u001b[0m \u001b[0maverage_radius\u001b[0m \u001b[0;34m=\u001b[0m \u001b[0;36m10\u001b[0m\u001b[0;34m\u001b[0m\u001b[0;34m\u001b[0m\u001b[0m\n\u001b[0;32m----> 3\u001b[0;31m \u001b[0mnumber_of_circlee\u001b[0m\u001b[0;34m*\u001b[0m\u001b[0maverage_radius\u001b[0m\u001b[0;34m\u001b[0m\u001b[0;34m\u001b[0m\u001b[0m\n\u001b[0m",
      "\u001b[0;31mNameError\u001b[0m: name 'number_of_circlee' is not defined"
     ]
    }
   ],
   "source": [
    "number_of_circles = 12\n",
    "average_radius = 10\n",
    "number_of_circlee*average_radius"
   ]
  },
  {
   "cell_type": "markdown",
   "metadata": {},
   "source": [
    "#### You forgot variables were case sensitive\n",
    "In this example, the capitals were off, and the reassignment didnt' work because **my_ID** exists, but **my_id** does not exist"
   ]
  },
  {
   "cell_type": "code",
   "execution_count": 62,
   "metadata": {},
   "outputs": [
    {
     "ename": "NameError",
     "evalue": "name 'my_id' is not defined",
     "output_type": "error",
     "traceback": [
      "\u001b[0;31m---------------------------------------------------------------------------\u001b[0m",
      "\u001b[0;31mNameError\u001b[0m                                 Traceback (most recent call last)",
      "\u001b[0;32m<ipython-input-62-562219822d51>\u001b[0m in \u001b[0;36m<module>\u001b[0;34m\u001b[0m\n\u001b[1;32m      1\u001b[0m \u001b[0mmy_ID\u001b[0m \u001b[0;34m=\u001b[0m \u001b[0;36m1010\u001b[0m\u001b[0;34m\u001b[0m\u001b[0;34m\u001b[0m\u001b[0m\n\u001b[1;32m      2\u001b[0m \u001b[0mnew_ID\u001b[0m \u001b[0;34m=\u001b[0m \u001b[0;36m1020\u001b[0m\u001b[0;34m\u001b[0m\u001b[0;34m\u001b[0m\u001b[0m\n\u001b[0;32m----> 3\u001b[0;31m \u001b[0mnew_ID\u001b[0m \u001b[0;34m=\u001b[0m \u001b[0mmy_id\u001b[0m\u001b[0;34m\u001b[0m\u001b[0;34m\u001b[0m\u001b[0m\n\u001b[0m",
      "\u001b[0;31mNameError\u001b[0m: name 'my_id' is not defined"
     ]
    }
   ],
   "source": [
    "my_ID = 1010\n",
    "new_ID = 1020\n",
    "new_ID = my_id"
   ]
  },
  {
   "cell_type": "markdown",
   "metadata": {},
   "source": [
    "<a id= \"Challenge 3\"></a>\n",
    "### Challenge 3: Fix Update Quadratic (Easier)\n",
    "The following code is an attempt to update the quadratic equation from challenge 2. However, it doesn't work as intended. Fix the code:"
   ]
  },
  {
   "cell_type": "code",
   "execution_count": 63,
   "metadata": {},
   "outputs": [
    {
     "ename": "NameError",
     "evalue": "name 'bval' is not defined",
     "output_type": "error",
     "traceback": [
      "\u001b[0;31m---------------------------------------------------------------------------\u001b[0m",
      "\u001b[0;31mNameError\u001b[0m                                 Traceback (most recent call last)",
      "\u001b[0;32m<ipython-input-63-8aa4bb33b9a9>\u001b[0m in \u001b[0;36m<module>\u001b[0;34m\u001b[0m\n\u001b[1;32m      2\u001b[0m \u001b[0mb_val\u001b[0m \u001b[0;34m=\u001b[0m \u001b[0;36m201\u001b[0m\u001b[0;34m\u001b[0m\u001b[0;34m\u001b[0m\u001b[0m\n\u001b[1;32m      3\u001b[0m \u001b[0mc_val\u001b[0m \u001b[0;34m=\u001b[0m \u001b[0;34m-\u001b[0m\u001b[0;36m414\u001b[0m\u001b[0;34m\u001b[0m\u001b[0;34m\u001b[0m\u001b[0m\n\u001b[0;32m----> 4\u001b[0;31m \u001b[0mroot_1\u001b[0m \u001b[0;34m=\u001b[0m \u001b[0;34m(\u001b[0m\u001b[0;34m-\u001b[0m\u001b[0mb_val\u001b[0m\u001b[0;34m+\u001b[0m\u001b[0;34m(\u001b[0m\u001b[0mbval\u001b[0m\u001b[0;34m**\u001b[0m\u001b[0;36m2\u001b[0m\u001b[0;34m-\u001b[0m\u001b[0;36m4\u001b[0m\u001b[0;34m*\u001b[0m\u001b[0ma_val\u001b[0m\u001b[0;34m*\u001b[0m\u001b[0mc_val\u001b[0m\u001b[0;34m)\u001b[0m\u001b[0;34m**\u001b[0m\u001b[0;34m(\u001b[0m\u001b[0;36m1\u001b[0m\u001b[0;34m/\u001b[0m\u001b[0;36m2\u001b[0m\u001b[0;34m)\u001b[0m\u001b[0;34m)\u001b[0m\u001b[0;34m/\u001b[0m\u001b[0;34m(\u001b[0m\u001b[0;36m2\u001b[0m\u001b[0;34m*\u001b[0m\u001b[0ma_val\u001b[0m\u001b[0;34m)\u001b[0m\u001b[0;34m\u001b[0m\u001b[0;34m\u001b[0m\u001b[0m\n\u001b[0m\u001b[1;32m      5\u001b[0m \u001b[0mroot_2\u001b[0m \u001b[0;34m=\u001b[0m \u001b[0;34m(\u001b[0m\u001b[0;34m-\u001b[0m\u001b[0mb_val\u001b[0m\u001b[0;34m-\u001b[0m\u001b[0;34m(\u001b[0m\u001b[0mb\u001b[0m\u001b[0;34m**\u001b[0m\u001b[0;36m2\u001b[0m\u001b[0;34m-\u001b[0m\u001b[0;36m4\u001b[0m\u001b[0;34m*\u001b[0m\u001b[0ma_val\u001b[0m\u001b[0;34m*\u001b[0m\u001b[0mc_val\u001b[0m\u001b[0;34m)\u001b[0m\u001b[0;34m**\u001b[0m\u001b[0;34m(\u001b[0m\u001b[0;36m1\u001b[0m\u001b[0;34m/\u001b[0m\u001b[0;36m2\u001b[0m\u001b[0;34m)\u001b[0m\u001b[0;34m)\u001b[0m\u001b[0;34m/\u001b[0m\u001b[0;34m(\u001b[0m\u001b[0;36m2\u001b[0m\u001b[0;34m*\u001b[0m\u001b[0ma_val\u001b[0m\u001b[0;34m)\u001b[0m\u001b[0;34m\u001b[0m\u001b[0;34m\u001b[0m\u001b[0m\n",
      "\u001b[0;31mNameError\u001b[0m: name 'bval' is not defined"
     ]
    }
   ],
   "source": [
    "a_val = 3\n",
    "b_val = 201\n",
    "c_val = -414\n",
    "root_1 = (-b_val+(bval**2-4*a_val*c_val)**(1/2))/(2*a_val)\n",
    "root_2 = (-b_val-(b**2-4*a_val*c_val)**(1/2))/(2*a_val)"
   ]
  },
  {
   "cell_type": "markdown",
   "metadata": {},
   "source": [
    "<a id= \"Challenge 4\"></a>\n",
    "### Challenge 4: Switch Variable Values (Harder)\n",
    "Switch the two variables by reassigning them. So after you run the code, x should be 15 and y should be 12. However, there are **two rules** to this challenge:\n",
    "1. **You cannot assign a variable to a number** (so saying y=12 and x=15 is not allowed).\n",
    "1. **You cannot use math to change the variables** (so you can't use addition, subtraction, multiplication, etc. to alter the values)"
   ]
  },
  {
   "cell_type": "code",
   "execution_count": 64,
   "metadata": {},
   "outputs": [],
   "source": [
    "x = 12\n",
    "y = 15\n"
   ]
  },
  {
   "cell_type": "code",
   "execution_count": 65,
   "metadata": {},
   "outputs": [
    {
     "data": {
      "text/plain": [
       "False"
      ]
     },
     "execution_count": 65,
     "metadata": {},
     "output_type": "execute_result"
    }
   ],
   "source": [
    "# Check your answer by running this cell. It should return true.\n",
    "x==15 and y==12"
   ]
  },
  {
   "cell_type": "code",
   "execution_count": 66,
   "metadata": {},
   "outputs": [
    {
     "data": {
      "text/html": [
       "<h2>Answers to Challenges</h2><hr>"
      ],
      "text/plain": [
       "<IPython.core.display.HTML object>"
      ]
     },
     "metadata": {},
     "output_type": "display_data"
    },
    {
     "data": {
      "application/vnd.jupyter.widget-view+json": {
       "model_id": "3b4e31fa6dc04ec4953a96694cc18882",
       "version_major": 2,
       "version_minor": 0
      },
      "text/plain": [
       "Button(description='Answer to #3', style=ButtonStyle())"
      ]
     },
     "metadata": {},
     "output_type": "display_data"
    },
    {
     "data": {
      "application/vnd.jupyter.widget-view+json": {
       "model_id": "fdec2b1c7cc646bbac06e2ba99e1cbb6",
       "version_major": 2,
       "version_minor": 0
      },
      "text/plain": [
       "Button(description='Answer to #4', style=ButtonStyle())"
      ]
     },
     "metadata": {},
     "output_type": "display_data"
    },
    {
     "data": {
      "application/vnd.jupyter.widget-view+json": {
       "model_id": "292f0001e0314d4abd4362c776a3d0a8",
       "version_major": 2,
       "version_minor": 0
      },
      "text/plain": [
       "Output()"
      ]
     },
     "metadata": {},
     "output_type": "display_data"
    },
    {
     "data": {
      "text/html": [
       "<script>\n",
       "code_show=true;\n",
       "function code_toggle() {\n",
       "    if (code_show){\n",
       "        $('div.cell.code_cell.rendered.selected div.input').hide();\n",
       "    } else {\n",
       "        $('div.cell.code_cell.rendered.selected div.input').show();\n",
       "    }\n",
       "    code_show = !code_show\n",
       "} \n",
       "$( document ).ready(code_toggle);\n",
       "</script>\n",
       "Don't look, but I've hidden this cell's code (I didn't want to spoil the answers). If you're curious, you can click <a href=\"javascript:code_toggle()\">here</a> to look at the contents\n"
      ],
      "text/plain": [
       "<IPython.core.display.HTML object>"
      ]
     },
     "metadata": {},
     "output_type": "display_data"
    }
   ],
   "source": [
    "tag = HTML('''<script>\n",
    "code_show=true;\n",
    "function code_toggle() {\n",
    "    if (code_show){\n",
    "        $('div.cell.code_cell.rendered.selected div.input').hide();\n",
    "    } else {\n",
    "        $('div.cell.code_cell.rendered.selected div.input').show();\n",
    "    }\n",
    "    code_show = !code_show\n",
    "} \n",
    "$( document ).ready(code_toggle);\n",
    "</script>\n",
    "Don't look, but I've hidden this cell's code (I didn't want to spoil the answers). If you're curious, you can click <a href=\"javascript:code_toggle()\">here</a> to look at the contents\n",
    "''')\n",
    "############### Actual Code ##################\n",
    "answer_button_3 = widgets.Button(\n",
    "    description=\"Answer to #3\"\n",
    ")\n",
    "answer_button_4 = widgets.Button(\n",
    "    description=\"Answer to #4\"\n",
    ")\n",
    "def challenge_3(b):\n",
    "    with output:\n",
    "        output.clear_output()\n",
    "        print(\"In root_1, bval should be written as b_val\")\n",
    "def challenge_4(b):\n",
    "    with output:\n",
    "        output.clear_output()\n",
    "        print(\"Create a temp variable to store one variable before reassigning the next one. Example code: \\n\\n temp = x \\n x = y \\n y = temp\")\n",
    "answer_button_3.on_click(challenge_3)\n",
    "answer_button_4.on_click(challenge_4)\n",
    "output = widgets.Output()\n",
    "display(HTML(\"<h2>Answers to Challenges</h2><hr>\"),answer_button_3, answer_button_4, output, tag)"
   ]
  },
  {
   "cell_type": "markdown",
   "metadata": {},
   "source": [
    "# Python Strings\n",
    "A string represents a collection of characters. They can be sentences, words, etc. Strings are known as **iterables**, which means that they can be **indexed** and **sliced**. Strings can use any characters, so all of the following:\n",
    "> \"Bees Knees\"\n",
    "\n",
    "> \"123453\"\n",
    "\n",
    "> \"12ue9#(RU90\"\n",
    "\n",
    "> \"😃🤢😃❤️😄😂\"\n",
    "\n",
    "are considered strings."
   ]
  },
  {
   "cell_type": "markdown",
   "metadata": {},
   "source": [
    "<a id = \"String Basics\"></a>\n",
    "### String Basics\n",
    "#### Creating a String"
   ]
  },
  {
   "cell_type": "code",
   "execution_count": 67,
   "metadata": {},
   "outputs": [
    {
     "data": {
      "text/plain": [
       "\"Shawty's got a melody in my head\""
      ]
     },
     "execution_count": 67,
     "metadata": {},
     "output_type": "execute_result"
    }
   ],
   "source": [
    "my_string = \"Shawty's got a melody in my head\"\n",
    "my_string"
   ]
  },
  {
   "cell_type": "markdown",
   "metadata": {},
   "source": [
    "#### String Concatenation"
   ]
  },
  {
   "cell_type": "code",
   "execution_count": 68,
   "metadata": {},
   "outputs": [
    {
     "data": {
      "text/plain": [
       "\"Shawty's got a melody in my head, That I can't keep out\""
      ]
     },
     "execution_count": 68,
     "metadata": {},
     "output_type": "execute_result"
    }
   ],
   "source": [
    "my_string_2 = \", That I can't keep out\"\n",
    "my_concatenated_string = my_string + my_string_2\n",
    "my_concatenated_string"
   ]
  },
  {
   "cell_type": "markdown",
   "metadata": {},
   "source": [
    "#### Multi-line Strings"
   ]
  },
  {
   "cell_type": "code",
   "execution_count": 69,
   "metadata": {},
   "outputs": [
    {
     "data": {
      "text/plain": [
       "\"\\nHeart been broke so many times I\\nDon't know what to believe\\nMama say it's my fault, it's my fault I wear my heart on my sleeve\\nThink it's best I put my heart on ice, heart on ice\\n\""
      ]
     },
     "execution_count": 69,
     "metadata": {},
     "output_type": "execute_result"
    }
   ],
   "source": [
    "my_multiline_string = '''\n",
    "Heart been broke so many times I\n",
    "Don't know what to believe\n",
    "Mama say it's my fault, it's my fault I wear my heart on my sleeve\n",
    "Think it's best I put my heart on ice, heart on ice\n",
    "'''\n",
    "my_multiline_string"
   ]
  },
  {
   "cell_type": "markdown",
   "metadata": {},
   "source": [
    "#### Escape Sequences\n",
    "You may have noticed all of the \"\\n\" throughout the multi-line string. This is because python actually stores new lines as \"\\n\". This is known as an **escape sequence**, which are combinations of characters that have a non-literal meaning. Here's a chart of the most useful ones:\n",
    "<table>\n",
    "    <tr style=\"font-weight:bold; font-size: 15px\">\n",
    "        <td>Escape Sequence</td>\n",
    "        <td>Syntax</td>\n",
    "        <td>Usage</td>\n",
    "    </tr>\n",
    "    <tr>\n",
    "        <td><b>New Line</b></td>\n",
    "        <td>\\n</td>\n",
    "        <td>Equivalent to pressing \"return\" on the keyboard</td>\n",
    "    </tr>\n",
    "    <tr>\n",
    "        <td><b>Tab</b></td>\n",
    "        <td>\\t</td>\n",
    "        <td>creates 4 spaces</td>\n",
    "    </tr>\n",
    "    <tr>\n",
    "        <td><b>Quotes</b></td>\n",
    "        <td>\\\" or \\'</td>\n",
    "        <td>creates a quote that doesn't interefere with string quotes</td>\n",
    "    </tr>\n",
    "    <tr>\n",
    "        <td><b>Backslash</b></td>\n",
    "        <td>\\\\</td>\n",
    "        <td>used in case you need an actual \"\\\" character</td>\n",
    "    </tr>\n",
    "</table>\n",
    "\n",
    "#### The print() method\n",
    "These escape sequences will be rendered when you call the print method:"
   ]
  },
  {
   "cell_type": "code",
   "execution_count": 70,
   "metadata": {},
   "outputs": [
    {
     "name": "stdout",
     "output_type": "stream",
     "text": [
      "\n",
      "Heart been broke so many times I\n",
      "Don't know what to believe\n",
      "Mama say it's my fault, it's my fault I wear my heart on my sleeve\n",
      "Think it's best I put my heart on ice, heart on ice\n",
      "\n"
     ]
    }
   ],
   "source": [
    "print(my_multiline_string)"
   ]
  },
  {
   "cell_type": "code",
   "execution_count": 71,
   "metadata": {},
   "outputs": [
    {
     "name": "stdout",
     "output_type": "stream",
     "text": [
      "PHYSICS OUTLINE \n",
      "\t1. Kinematics\n",
      "\t\ta. Position\n",
      "\t\tb. Distance vs. Displacement\n",
      "\t\tc. Speed vs. Velocity\n",
      "\t\t\ti. Velocity vs. Time Graphs\n",
      "\t\te. Acceleration\n",
      "\t\t\ti. a=v/t\n",
      "\t\t\tii. Universally Accelerated Motion\n",
      "\t\t\tiii. Acceleration-Time Graphs\n"
     ]
    }
   ],
   "source": [
    "my_escape_sequence_string = \"PHYSICS OUTLINE \\n\\t1. Kinematics\\n\\t\\ta. Position\\n\\t\\tb. Distance vs. Displacement\\n\\t\\tc. Speed vs. Velocity\\n\\t\\t\\ti. Velocity vs. Time Graphs\\n\\t\\te. Acceleration\\n\\t\\t\\ti. a=v/t\\n\\t\\t\\tii. Universally Accelerated Motion\\n\\t\\t\\tiii. Acceleration-Time Graphs\"\n",
    "print(my_escape_sequence_string)"
   ]
  },
  {
   "cell_type": "markdown",
   "metadata": {},
   "source": [
    "<a id = \"Manipulating Strings\"></a>\n",
    "### Manipulating Strings\n",
    "#### String Operations and Methods\n",
    "\n",
    "##### Multiplying Strings\n",
    "You can multiply strings in python (which is pretty unique) to repeat them. See what happens when you change the 4 in the code cell below:"
   ]
  },
  {
   "cell_type": "code",
   "execution_count": 72,
   "metadata": {},
   "outputs": [
    {
     "data": {
      "text/plain": [
       "'School is boringSchool is boringSchool is boringSchool is boring'"
      ]
     },
     "execution_count": 72,
     "metadata": {},
     "output_type": "execute_result"
    }
   ],
   "source": [
    "my_string = \"School is boring\"\n",
    "my_multiplied_string = my_string*4\n",
    "my_multiplied_string"
   ]
  },
  {
   "cell_type": "markdown",
   "metadata": {},
   "source": [
    "##### String Methods\n",
    "To use a method on the string, you must write it in this format: my_string.method_name()\n",
    "Here are some fun string methods to play around with:\n",
    "<table>\n",
    "    <tr style=\"font-weight:bold; font-size: 15px\">\n",
    "        <td>Method</td>\n",
    "        <td>Description</td>\n",
    "    </tr>\n",
    "    <tr>\n",
    "        <td><b>capitalize()</b></td>\n",
    "        <td>Converts the first character to upper case</td>\n",
    "    </tr>\n",
    "    <tr>\n",
    "        <td><b>lower()</b></td>\n",
    "        <td>Makes all letters lowercase</td>\n",
    "    </tr>\n",
    "    <tr>\n",
    "        <td><b>upper()</b></td>\n",
    "        <td>Makes all letters uppercase</td>\n",
    "    </tr>\n",
    "    <tr>\n",
    "        <td><b>title()</b></td>\n",
    "        <td>Capitalizes the first character of all words</td>\n",
    "    </tr>\n",
    "</table>\n"
   ]
  },
  {
   "cell_type": "code",
   "execution_count": 73,
   "metadata": {},
   "outputs": [
    {
     "data": {
      "text/plain": [
       "'John'"
      ]
     },
     "execution_count": 73,
     "metadata": {},
     "output_type": "execute_result"
    }
   ],
   "source": [
    "my_string = \"john\"\n",
    "my_string.capitalize()"
   ]
  },
  {
   "cell_type": "code",
   "execution_count": 74,
   "metadata": {},
   "outputs": [
    {
     "data": {
      "text/plain": [
       "'John'"
      ]
     },
     "execution_count": 74,
     "metadata": {},
     "output_type": "execute_result"
    }
   ],
   "source": [
    "\"john\".capitalize()"
   ]
  },
  {
   "cell_type": "code",
   "execution_count": 75,
   "metadata": {},
   "outputs": [
    {
     "data": {
      "text/plain": [
       "\"I Mean My, My, My, My You'Re Like Pelican Fly\\nI Mean, You'Re So Shy And I'M Loving Your Tie\""
      ]
     },
     "execution_count": 75,
     "metadata": {},
     "output_type": "execute_result"
    }
   ],
   "source": [
    "my_long_string = \"I mean my, my, my, my you're like pelican fly\\nI mean, you're so shy and I'm loving your tie\"\n",
    "my_long_string.title()"
   ]
  },
  {
   "cell_type": "code",
   "execution_count": 76,
   "metadata": {},
   "outputs": [
    {
     "data": {
      "text/plain": [
       "\"I MEAN MY, MY, MY, MY YOU'RE LIKE PELICAN FLY\\nI MEAN, YOU'RE SO SHY AND I'M LOVING YOUR TIE\""
      ]
     },
     "execution_count": 76,
     "metadata": {},
     "output_type": "execute_result"
    }
   ],
   "source": [
    "my_long_string.upper()"
   ]
  },
  {
   "cell_type": "code",
   "execution_count": 77,
   "metadata": {},
   "outputs": [
    {
     "data": {
      "text/plain": [
       "\"I mean my, my, my, my you're like pelican fly\\nI mean, you're so shy and I'm loving your tie\""
      ]
     },
     "execution_count": 77,
     "metadata": {},
     "output_type": "execute_result"
    }
   ],
   "source": [
    "my_long_string"
   ]
  },
  {
   "cell_type": "markdown",
   "metadata": {},
   "source": [
    "##### Strings are Immutable\n",
    "Did you notice how the original string was unchanged? This is because strings in python are **immutable**. To actually change the string you have to completely reassign it:"
   ]
  },
  {
   "cell_type": "code",
   "execution_count": 78,
   "metadata": {},
   "outputs": [
    {
     "data": {
      "text/plain": [
       "\"I MEAN MY, MY, MY, MY YOU'RE LIKE PELICAN FLY\\nI MEAN, YOU'RE SO SHY AND I'M LOVING YOUR TIE\""
      ]
     },
     "execution_count": 78,
     "metadata": {},
     "output_type": "execute_result"
    }
   ],
   "source": [
    "my_long_string = my_long_string.upper()\n",
    "my_long_string"
   ]
  },
  {
   "cell_type": "markdown",
   "metadata": {},
   "source": [
    "##### len()\n",
    "The len() method returns the length of the string"
   ]
  },
  {
   "cell_type": "code",
   "execution_count": 79,
   "metadata": {},
   "outputs": [
    {
     "data": {
      "text/plain": [
       "91"
      ]
     },
     "execution_count": 79,
     "metadata": {},
     "output_type": "execute_result"
    }
   ],
   "source": [
    "len(my_long_string)"
   ]
  },
  {
   "cell_type": "markdown",
   "metadata": {},
   "source": [
    "#### String Indexing and Slicing\n",
    "Strings can be **indexed**. This means that python knows how to break apart a string. In fact, it assigns an **index number** to every single character in a string. The index number <u>starts from zero</u>. To python, a string like \"Potatoes are cool\" look like this:\n",
    "<table style=\"border: 1px solid black\">\n",
    "    <tr style=\"font-weight: bold; border\">\n",
    "        <td style=\"color: slate gray;\">Character</td>\n",
    "        <td>P</td>\n",
    "        <td>o</td>\n",
    "        <td>t</td>\n",
    "        <td>a</td>\n",
    "        <td>t</td>\n",
    "        <td>o</td>\n",
    "        <td>e</td>\n",
    "        <td>s</td>\n",
    "        <td> </td>\n",
    "        <td>a</td>\n",
    "        <td>r</td>\n",
    "        <td>e</td>\n",
    "        <td> </td>\n",
    "        <td>c</td>\n",
    "        <td>o</td>\n",
    "        <td>o</td>\n",
    "        <td>l</td>\n",
    "    </tr>\n",
    "    <tr>\n",
    "        <td>Index Num</td>\n",
    "        <td>0</td>\n",
    "        <td>1</td>\n",
    "        <td>2</td>\n",
    "        <td>3</td>\n",
    "        <td>4</td>\n",
    "        <td>5</td>\n",
    "        <td>6</td>\n",
    "        <td>7</td>\n",
    "        <td>8</td>\n",
    "        <td>9</td>\n",
    "        <td>10</td>\n",
    "        <td>11</td>\n",
    "        <td>12</td>\n",
    "        <td>13</td>\n",
    "        <td>14</td>\n",
    "        <td>15</td>\n",
    "        <td>16</td>\n",
    "    </tr>\n",
    "</table>\n",
    "\n",
    "Indexing a string is simple: state your string and put square brackets next to it. The syntax looks like this:\n",
    "\n",
    "<br>\n",
    "<center><span style=\"font-size: 20px\">my_string[n]</span></center>\n",
    "<br>\n",
    "\n",
    "    *where 0 ≤ n < len(my_string)\n",
    "    \n",
    "Here's an example:"
   ]
  },
  {
   "cell_type": "code",
   "execution_count": 80,
   "metadata": {},
   "outputs": [
    {
     "data": {
      "text/plain": [
       "'P'"
      ]
     },
     "execution_count": 80,
     "metadata": {},
     "output_type": "execute_result"
    }
   ],
   "source": [
    "my_string = \"Potatoes are cool\"\n",
    "my_string[0] "
   ]
  },
  {
   "cell_type": "markdown",
   "metadata": {},
   "source": [
    "But what if you wanted to grab a whole section of the string? This is where **string slicing** comes in. To grab a section of a string, you have to follow this format:\n",
    "<br><br>\n",
    "<center><span style=\"font-size: 20px\">my_string[start:stop:step]</span></center>\n",
    "<br>\n",
    "\n",
    "In words, it takes the characters in my_string from index position start, and up to **but not including** the stop value."
   ]
  },
  {
   "cell_type": "code",
   "execution_count": 81,
   "metadata": {},
   "outputs": [
    {
     "data": {
      "text/plain": [
       "'Potatoes'"
      ]
     },
     "execution_count": 81,
     "metadata": {},
     "output_type": "execute_result"
    }
   ],
   "source": [
    "# grabbing Potatoes from my_string:\n",
    "my_string[0:8]\n",
    "# even though the last letter of Potatoes is at index 7, we overshoot to 8"
   ]
  },
  {
   "cell_type": "code",
   "execution_count": 82,
   "metadata": {},
   "outputs": [
    {
     "data": {
      "text/plain": [
       "'Potatoes'"
      ]
     },
     "execution_count": 82,
     "metadata": {},
     "output_type": "execute_result"
    }
   ],
   "source": [
    "# The zero can be ommitted\n",
    "my_string[:8]"
   ]
  },
  {
   "cell_type": "code",
   "execution_count": 83,
   "metadata": {},
   "outputs": [
    {
     "data": {
      "text/plain": [
       "' are cool'"
      ]
     },
     "execution_count": 83,
     "metadata": {},
     "output_type": "execute_result"
    }
   ],
   "source": [
    "# If you want to select from one index to the end, omit the stop\n",
    "my_string[8:]"
   ]
  },
  {
   "cell_type": "code",
   "execution_count": 84,
   "metadata": {},
   "outputs": [
    {
     "data": {
      "text/plain": [
       "'Potatoes are cool'"
      ]
     },
     "execution_count": 84,
     "metadata": {},
     "output_type": "execute_result"
    }
   ],
   "source": [
    "# Omit stop and step to get the whole string\n",
    "my_string[::]"
   ]
  },
  {
   "cell_type": "markdown",
   "metadata": {},
   "source": [
    "##### Applications of Step Size"
   ]
  },
  {
   "cell_type": "code",
   "execution_count": 85,
   "metadata": {},
   "outputs": [
    {
     "data": {
      "text/plain": [
       "'1234567'"
      ]
     },
     "execution_count": 85,
     "metadata": {},
     "output_type": "execute_result"
    }
   ],
   "source": [
    "# Whole string but in steps of 2\n",
    "my_string_2 = \"1,2,3,4,5,6,7\"\n",
    "my_string_2[::2]"
   ]
  },
  {
   "cell_type": "code",
   "execution_count": 86,
   "metadata": {},
   "outputs": [
    {
     "data": {
      "text/plain": [
       "'eM esreveR'"
      ]
     },
     "execution_count": 86,
     "metadata": {},
     "output_type": "execute_result"
    }
   ],
   "source": [
    "# Reverse string trick\n",
    "my_string_3 = \"Reverse Me\"\n",
    "my_string_3[::-1]"
   ]
  },
  {
   "cell_type": "markdown",
   "metadata": {},
   "source": [
    "#### String Formatting\n",
    "There are special ways to format strings and add dynamic elements (so if you wanted to reference a variable), with the easiest being **f-string literals**. To do this, you have to start your string with an f in front of it. \n",
    "<br><br>\n",
    "<center><span style=\"font-size: 20px\">my_fstring = <span style=\"color: #d17d2a\">f\"This is a sentence {<span style=\"color:black\">some_var</span>}\"</span></span></center>\n",
    "<br>"
   ]
  },
  {
   "cell_type": "code",
   "execution_count": 87,
   "metadata": {},
   "outputs": [
    {
     "data": {
      "text/plain": [
       "'My name is Ron and my favorite singer is Jeremy Zucker'"
      ]
     },
     "execution_count": 87,
     "metadata": {},
     "output_type": "execute_result"
    }
   ],
   "source": [
    "my_name = \"Ron\"\n",
    "my_fav_singer = \"Jeremy Zucker\"\n",
    "my_fstring = f\"My name is {my_name} and my favorite singer is {my_fav_singer}\"\n",
    "my_fstring"
   ]
  },
  {
   "cell_type": "markdown",
   "metadata": {},
   "source": [
    "You can also perform operations, methods, slicing, and indexing inside of the brackets:"
   ]
  },
  {
   "cell_type": "code",
   "execution_count": 88,
   "metadata": {},
   "outputs": [
    {
     "data": {
      "text/plain": [
       "'My name is RON and my favorite singer is rekcuZ ymereJ'"
      ]
     },
     "execution_count": 88,
     "metadata": {},
     "output_type": "execute_result"
    }
   ],
   "source": [
    "my_fstring_2 = f\"My name is {my_name.upper()} and my favorite singer is {my_fav_singer[::-1]}\"\n",
    "my_fstring_2"
   ]
  },
  {
   "cell_type": "markdown",
   "metadata": {},
   "source": [
    "<a id = \"Challenge 5\"></a>\n",
    "### Challenge 5: Censorship (Easier)\n",
    "You're the tech coordinator at a middle school, and you've found some alarming digital messages from the students. Use string slicing, concatenation and methods to get rid of the \"alarming\" parts of their messages. Here's what they should say:\n",
    "<table>\n",
    "    <tr>\n",
    "        <td>Message 1</td>\n",
    "        <td>\"Mrs. Seelback, more like Mrs. Spectacular\"</td>\n",
    "    </tr>\n",
    "    <tr>\n",
    "        <td>Message 2</td>\n",
    "        <td>\"My English teacher knows grammar very well\"</td>\n",
    "    </tr>\n",
    "    <tr>\n",
    "        <td>Message 3</td>\n",
    "        <td>\"School is great and I love school\"</td>\n",
    "    </tr>\n",
    "</table>  "
   ]
  },
  {
   "cell_type": "code",
   "execution_count": 89,
   "metadata": {},
   "outputs": [],
   "source": [
    "message_1 = \"Mrs. Seelback, more like Mrs. Stupid\"\n",
    "message_2 = \"My English teacher doesn't knows grammar very well\"\n",
    "message_3 = \"School is dumb and I hate school\""
   ]
  },
  {
   "cell_type": "code",
   "execution_count": 90,
   "metadata": {},
   "outputs": [],
   "source": [
    "# Write your code here\n"
   ]
  },
  {
   "cell_type": "code",
   "execution_count": 91,
   "metadata": {},
   "outputs": [
    {
     "data": {
      "text/plain": [
       "False"
      ]
     },
     "execution_count": 91,
     "metadata": {},
     "output_type": "execute_result"
    }
   ],
   "source": [
    "# Check your code by running this cell. It should say true.\n",
    "message_1 == \"School is great and I love school\" and message_2 == \"Mrs. Seelback, more like Mrs. Spectacular\" and message_3 ==\"My English teacher knows grammar very well\" "
   ]
  },
  {
   "cell_type": "markdown",
   "metadata": {},
   "source": [
    "<a id = \"Challenge 6\"></a>\n",
    "### Challenge 6: Untangle the String (Harder)\n",
    "<img src=\"https://1.bp.blogspot.com/-exkdVBz2WU0/UdqrZnm-fbI/AAAAAAAAAuU/IooGMAFddcU/s1600/15194298-knotted-rope-on-white.jpg\">\n",
    "\n",
    "The following string should say \n",
    ">Ophiocordyceps unilateralis: is an insect-pathogenic fungus, discovered by the British naturalist Alfred Russel Wallace in 1859, known for manipulating ant corpses.\n",
    "\n",
    "but it's been messed up. Use string slicing and string methods to fix it.\n",
    "\n",
    "**Useful Method**: You can use index() to find the index of where a smaller string is in a larger string. Here's an example:"
   ]
  },
  {
   "cell_type": "code",
   "execution_count": 92,
   "metadata": {},
   "outputs": [
    {
     "data": {
      "text/plain": [
       "9"
      ]
     },
     "execution_count": 92,
     "metadata": {},
     "output_type": "execute_result"
    }
   ],
   "source": [
    "my_small_string = \"here\"\n",
    "my_big_string = \"the food here is pretty good\"\n",
    "my_big_string.index(my_small_string)"
   ]
  },
  {
   "cell_type": "code",
   "execution_count": 93,
   "metadata": {},
   "outputs": [
    {
     "data": {
      "text/plain": [
       "'specydrocoihpO is an insect-pathogenic fungus, unilateralis: discovered by the British naturalist alfred russel wallace IN 1859, KNOWN FOR MANIPULATING ANT CORPSES.'"
      ]
     },
     "execution_count": 93,
     "metadata": {},
     "output_type": "execute_result"
    }
   ],
   "source": [
    "zombie_mushroom = 'specydrocoihpO is an insect-pathogenic fungus, unilateralis: discovered by the British naturalist alfred russel wallace IN 1859, KNOWN FOR MANIPULATING ANT CORPSES.'\n",
    "zombie_mushroom"
   ]
  },
  {
   "cell_type": "code",
   "execution_count": 94,
   "metadata": {},
   "outputs": [],
   "source": [
    "# Write your code here\n"
   ]
  },
  {
   "cell_type": "code",
   "execution_count": 95,
   "metadata": {},
   "outputs": [
    {
     "data": {
      "text/plain": [
       "False"
      ]
     },
     "execution_count": 95,
     "metadata": {},
     "output_type": "execute_result"
    }
   ],
   "source": [
    "# Check your answer. It should say true.\n",
    "zombie_mushroom == \"Ophiocordyceps unilateralis: is an insect-pathogenic fungus, discovered by the British naturalist Alfred Russel Wallace in 1859, known for manipulating ant corpses.\""
   ]
  },
  {
   "cell_type": "code",
   "execution_count": 96,
   "metadata": {},
   "outputs": [
    {
     "data": {
      "text/html": [
       "<h2>Answers to Challenges</h2><hr>"
      ],
      "text/plain": [
       "<IPython.core.display.HTML object>"
      ]
     },
     "metadata": {},
     "output_type": "display_data"
    },
    {
     "data": {
      "application/vnd.jupyter.widget-view+json": {
       "model_id": "dd02506792ae451b91e73bade3d1e20a",
       "version_major": 2,
       "version_minor": 0
      },
      "text/plain": [
       "Button(description='Answer to #5', style=ButtonStyle())"
      ]
     },
     "metadata": {},
     "output_type": "display_data"
    },
    {
     "data": {
      "application/vnd.jupyter.widget-view+json": {
       "model_id": "11e321b4ba2743a09f98a28242d01b2a",
       "version_major": 2,
       "version_minor": 0
      },
      "text/plain": [
       "Button(description='Answer to #6', style=ButtonStyle())"
      ]
     },
     "metadata": {},
     "output_type": "display_data"
    },
    {
     "data": {
      "application/vnd.jupyter.widget-view+json": {
       "model_id": "ae03d3357bea42cc953ac9f3817480ce",
       "version_major": 2,
       "version_minor": 0
      },
      "text/plain": [
       "Output()"
      ]
     },
     "metadata": {},
     "output_type": "display_data"
    },
    {
     "data": {
      "text/html": [
       "<script>\n",
       "code_show=true;\n",
       "function code_toggle() {\n",
       "    if (code_show){\n",
       "        $('div.cell.code_cell.rendered.selected div.input').hide();\n",
       "    } else {\n",
       "        $('div.cell.code_cell.rendered.selected div.input').show();\n",
       "    }\n",
       "    code_show = !code_show\n",
       "} \n",
       "$( document ).ready(code_toggle);\n",
       "</script>\n",
       "Don't look, but I've hidden this cell's code (I didn't want to spoil the answers). If you're curious, you can click <a href=\"javascript:code_toggle()\">here</a> to look at the contents\n"
      ],
      "text/plain": [
       "<IPython.core.display.HTML object>"
      ]
     },
     "metadata": {},
     "output_type": "display_data"
    }
   ],
   "source": [
    "tag = HTML('''<script>\n",
    "code_show=true;\n",
    "function code_toggle() {\n",
    "    if (code_show){\n",
    "        $('div.cell.code_cell.rendered.selected div.input').hide();\n",
    "    } else {\n",
    "        $('div.cell.code_cell.rendered.selected div.input').show();\n",
    "    }\n",
    "    code_show = !code_show\n",
    "} \n",
    "$( document ).ready(code_toggle);\n",
    "</script>\n",
    "Don't look, but I've hidden this cell's code (I didn't want to spoil the answers). If you're curious, you can click <a href=\"javascript:code_toggle()\">here</a> to look at the contents\n",
    "''')\n",
    "############### Actual Code ##################\n",
    "answer_button_5 = widgets.Button(\n",
    "    description=\"Answer to #5\"\n",
    ")\n",
    "answer_button_6 = widgets.Button(\n",
    "    description=\"Answer to #6\"\n",
    ")\n",
    "def challenge_5(b):\n",
    "    with output:\n",
    "        output.clear_output()\n",
    "        print(\"message_1 = message_1[:29]+ \\\"Spectacular\\\"\")\n",
    "        print(\"message_2 = message_2[:18] + message_2[26:]\")\n",
    "        print(\"message_3 = message_3[:10] + \\\"great\\\" + message_3[14:21] + \\\"love\\\" + message_3[25:]\")\n",
    "def challenge_6(b):\n",
    "    with output:\n",
    "        output.clear_output()\n",
    "        print(\"answer_key = zombie_mushroom[:14][::-1] + zombie_mushroom[46:60] + zombie_mushroom[14:47] + zombie_mushroom[60:98] + zombie_mushroom[98:119].capitalize() + zombie_mushroom[119:].lower()\")\n",
    "answer_button_5.on_click(challenge_5)\n",
    "answer_button_6.on_click(challenge_6)\n",
    "output = widgets.Output()\n",
    "display(HTML(\"<h2>Answers to Challenges</h2><hr>\"),answer_button_5, answer_button_6, output, tag)\n",
    "\n"
   ]
  },
  {
   "cell_type": "code",
   "execution_count": null,
   "metadata": {},
   "outputs": [],
   "source": []
  }
 ],
 "metadata": {
  "kernelspec": {
   "display_name": "Python 3",
   "language": "python",
   "name": "python3"
  },
  "language_info": {
   "codemirror_mode": {
    "name": "ipython",
    "version": 3
   },
   "file_extension": ".py",
   "mimetype": "text/x-python",
   "name": "python",
   "nbconvert_exporter": "python",
   "pygments_lexer": "ipython3",
   "version": "3.7.4"
  }
 },
 "nbformat": 4,
 "nbformat_minor": 2
}
