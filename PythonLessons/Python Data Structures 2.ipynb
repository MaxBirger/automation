{
 "cells": [
  {
   "cell_type": "code",
   "execution_count": 14,
   "metadata": {},
   "outputs": [],
   "source": [
    "# ignore these import statements for now\n",
    "from IPython.display import HTML\n",
    "from IPython.display import display\n",
    "import ipywidgets as widgets"
   ]
  },
  {
   "cell_type": "markdown",
   "metadata": {},
   "source": [
    "# Python Data Structures Part 2\n",
    "## Board Member Google Form Quiz:\n",
    "## How to Use This Notebook:\n",
    "\n",
    "1. Most sections will end with **two challenges**, one easier and one that's more difficult. I <span style = \"background-color: yellow\">highly recommend</span> that complete them. The most effective way to learn coding is to actually do it! Answers will be either linked, or shown in a button below <u>**important**: I had some issues getting the code to work right, so you should click the \"here\" link to hide the cell input (so the answers aren't spoiled!)</u>\n",
    "1. These notebooks are designed to be a **thorough reference** for you to use. Don't worry about memorizing everything. As long as you understand the main concepts you'll be fine!\n",
    "1. Words with a ▼ symbol next to them means that you can hover over it for a second or two to see a definition or some extra info on it!\n",
    "\n",
    "## Table of Contents <a id=\"top\"></a>\n",
    "* Overview\n",
    "* <a href = \"#link1\">Lists</a>\n",
    "    * <a href = \"#link1.\">Accessing Nested Lists and Index Chaining</a>\n",
    "    * <a href = \"#link1a\">Reassigning Items from a List</a>\n",
    "    * <a href = \"#link1b\">Useful Functions and Methods</a>\n",
    "        * <a href = \"#link1c\">Getting the Length of a List</a>\n",
    "        * <a href = \"#link1d\">Adding to a List</a>\n",
    "        * <a href = \"#link1e\">Removing from a List</a>\n",
    "        * <a href = \"#link1f\">Sorting and Reversing Lists</a>\n",
    "        * <a href = \"#link1g\">Common mistake with Sorting</a>\n",
    "    * <a href = \"#link1h\">Challenge 1: Get the Output</a>\n",
    "    * <a href = \"#link1i\">Challenge 2: Tic Tac Toe Board</a>\n",
    "* <a href = \"#link2\">Tuples</a>\n",
    "    * <a href = \"#link2a\">Tuple Methods</a>\n",
    "        * <a href = \"#link2ai\">Count</a>\n",
    "        * <a href = \"#link2aii\">Index</a>\n",
    "    * <a href = \"#link2b\">Tuple Unpacking and Assignment</a>\n",
    "        * <a href = \"#link2bi\">Unpacking</a>\n",
    "        * <a href = \"#link2bii\">Assignment</a>\n",
    "    * <a href = \"#link2c\">Challenge 3: Reverse Tuple</a>\n",
    "    * <a href = \"#link2d\">Challenge 4: Single Line Swap</a>\n",
    "* <a href = \"#link3\">Sets</a>\n",
    "    * <a href = \"#link3a\">Creating a Set</a>\n",
    "    * <a href = \"#link3b\">Typecasting</a>\n",
    "    * <a href = \"#link3c\">Removing Items from a Set</a>\n",
    "    * <a href = \"#link3d\">Challenge 5: Remove Duplicate Messages</a>\n",
    "* <a href = \"#link4\">Dictionaries</a>\n",
    "    * <a href = \"#link4a\">Creating a Dictionary</a>\n",
    "    * <a href = \"#link4b\">Accessing Values</a>\n",
    "    * <a href = \"#link4c\">Adding Elements</a>\n",
    "    * <a href = \"#link4d\">Removing Elements</a>\n",
    "    * <a href = \"#link4e\">.clear()</a>\n",
    "    * <a href = \"#link4f\">Changing Keys and Values</a>\n",
    "    * <a href = \"#link4g\">Extrapolating/Filtering Data from a Dictionary</a>\n",
    "        * <a href = \"#link4gi\">.keys()</a>\n",
    "        * <a href = \"#link4gii\">.values()</a>\n",
    "        * <a href = \"#link4giii\">.items()</a>\n",
    "    * <a href = \"#link4h\">Challenge 6: DT Bank Part 1</a>\n",
    "    * <a href = \"#link4i\">Challenge 7: DT Bank Part 2</a>\n",
    "   \n",
    "Now that you've learned all of the singular data types, lets talk about how to make groups of these data types. Here's a table that summarizes the three core group data types:\n",
    "<table style=\"border-collapse: collapse\">\n",
    "    <tr>\n",
    "        <th style=\"text-align:center; border: 1px solid gray\">Data Type</th>\n",
    "        <th style=\"text-align:center; border: 1px solid gray\">Description</th>\n",
    "        <th style=\"text-align:center;border: 1px solid gray\">Example</th>\n",
    "        <th style=\"text-align:center;border: 1px solid gray\">Methods</th>\n",
    "    </tr>\n",
    "    <tr>\n",
    "        <td style=\"text-align:center; border: 1px solid gray\">List</td>\n",
    "        <td style=\"text-align:center; border: 1px solid gray\">A mutable collection of data structures of any type</td>\n",
    "        <td style=\"text-align:center; border: 1px solid gray\">my_list = [1,\"blue\",3.4]</td>\n",
    "        <td style=\"text-align:center;border: 1px solid gray\">.append(), .pop(), .reverse(), .sort(), .reverse(), .index(), .insert()</td>\n",
    "    </tr>\n",
    "    <tr>\n",
    "        <td style=\"text-align:center; border: 1px solid gray\">Tuple</td>\n",
    "        <td style=\"text-align:center; border: 1px solid gray\">An immutable collection of data structures of any type</td>\n",
    "        <td style=\"text-align:center; border: 1px solid gray\">my_tuple = (1,\"blue\",3.4)</td>\n",
    "        <td style=\"text-align:center;border: 1px solid gray\">.count(), .index()</td>\n",
    "    </tr>\n",
    "    <tr>\n",
    "    <tr>\n",
    "        <td style=\"text-align:center; border: 1px solid gray\">Set</td>\n",
    "        <td style=\"text-align:center; border: 1px solid gray\">An unordered collection of unique data structures of any type</td>\n",
    "        <td style=\"text-align:center; border: 1px solid gray\">my_set = set([1,2,2,3,4,5,5])</td>\n",
    "        <td style=\"text-align:center;border: 1px solid gray\">.add(), .pop(), .difference(), .remove()</td>\n",
    "    </tr>\n",
    "    <tr>\n",
    "        <td style=\"text-align:center; border: 1px solid gray\">Dictionary</td>\n",
    "        <td style=\"text-align:center; border: 1px solid gray\">A collection of keys and values composed of data structures of any type</td>\n",
    "        <td style=\"text-align:center; border: 1px solid gray\">my_dict = {\"key1\": 5, \"key2\": 6, \"key3\": 7}</td>\n",
    "        <td style=\"text-align:center; border: 1px solid gray\">.pop(), .clear(), .copy(), .items(), .keys(), .values()</td>\n",
    "    </tr>\n",
    "</table>\n",
    "\n",
    "Don't worry if this seems like a lot to remember, it'll make sense as we go through some examples\n",
    "\n",
    "### Lists <a id = \"link1\"></a>\n",
    "* A list is a collection of items, and you can literally put anything inside of a list. So that could be a string, integer, float, or even more lists!\n",
    "* A list is a data structure that is <span title=\"'liable to change', basically you can reassign/change its contents\">**mutable ▼**</span>. The word mutable means *able to be changed*, thus the contents of lists are changeable. \n",
    "* To tell python you're creating a list, you must sandwich your items inside of square brackets, [], and seperate items with a comma.\n",
    "\n"
   ]
  },
  {
   "cell_type": "code",
   "execution_count": 7,
   "metadata": {},
   "outputs": [
    {
     "name": "stdout",
     "output_type": "stream",
     "text": [
      "[12, 'rotini pasta', 8.53, ['cheese pizza', 22]]\n"
     ]
    }
   ],
   "source": [
    "# Creating a list\n",
    "my_list = [12, \"rotini pasta\", 8.53, [\"cheese pizza\", 22]]\n",
    "print(my_list)"
   ]
  },
  {
   "cell_type": "markdown",
   "metadata": {},
   "source": [
    "To python, this is what my_list looks like:\n",
    "<table style=\"border-collapse: collapse\">\n",
    "    <tr>\n",
    "        <th style=\"text-align:center; border: 1px solid black\">Value</th>\n",
    "        <td style=\"text-align:center; border: 1px solid black\">12</td>\n",
    "        <td style=\"text-align:center; border: 1px solid black\">\"rotini pasta\"</td>\n",
    "        <td style=\"text-align:center; border: 1px solid black\">8.53</td>\n",
    "        <td style=\"text-align:center; border: 1px solid black\">[\"cheese pizza\", 22]</td>\n",
    "    </tr>\n",
    "    <tr>\n",
    "        <th style=\"text-align:center;\">Index</th>\n",
    "        <td style=\"text-align:center;\">0</td>\n",
    "        <td style=\"text-align:center;\">1</td>\n",
    "        <td style=\"text-align:center;\">2</td>\n",
    "        <td style=\"text-align:center;\">3</td>\n",
    "    </tr>\n",
    "</table>\n",
    "We can pull out values using the same format as string indexing and slicing"
   ]
  },
  {
   "cell_type": "code",
   "execution_count": 8,
   "metadata": {},
   "outputs": [
    {
     "data": {
      "text/plain": [
       "12"
      ]
     },
     "execution_count": 8,
     "metadata": {},
     "output_type": "execute_result"
    }
   ],
   "source": [
    "# pulling out the first item\n",
    "my_list[0]"
   ]
  },
  {
   "cell_type": "code",
   "execution_count": 9,
   "metadata": {},
   "outputs": [
    {
     "data": {
      "text/plain": [
       "['rotini pasta', 8.53, ['cheese pizza', 22]]"
      ]
     },
     "execution_count": 9,
     "metadata": {},
     "output_type": "execute_result"
    }
   ],
   "source": [
    "# pulling out the last two items\n",
    "my_list[1:]"
   ]
  },
  {
   "cell_type": "code",
   "execution_count": 10,
   "metadata": {},
   "outputs": [
    {
     "data": {
      "text/plain": [
       "[['cheese pizza', 22], 8.53, 'rotini pasta', 12]"
      ]
     },
     "execution_count": 10,
     "metadata": {},
     "output_type": "execute_result"
    }
   ],
   "source": [
    "# reversing the list\n",
    "my_list[::-1]"
   ]
  },
  {
   "cell_type": "markdown",
   "metadata": {},
   "source": [
    "<a style = \"color:gray\" href = \"#top\">Return to the Table of Contents</a>"
   ]
  },
  {
   "cell_type": "markdown",
   "metadata": {},
   "source": [
    "#### Accessing Nested Lists and Index Chaining <a id=\"link1.\"></a>\n",
    "What if you wanted to get the \"cheese pizza\" inside of that list? To do that, we have to <span title = \"means to do something in a row, or repeatedly; this can be done with methods/functions and indexing\">**chain ▼**</span> our indexing to grab the <span title = \"(nested is a coding term that means that a line of code is inside that type of code itself--> this is kind of a confusing definition, but it'll make more sense later on when we use if-else statements and write functions)\">**nested ▼**</span> list. When you call <code>my_list[3]</code> to grab the list of \"cheese pizza\" and 22, you can index inside of that list itself. This is because it is equivalent to the list itself:\n"
   ]
  },
  {
   "cell_type": "code",
   "execution_count": 11,
   "metadata": {},
   "outputs": [
    {
     "data": {
      "text/plain": [
       "'cheese pizza'"
      ]
     },
     "execution_count": 11,
     "metadata": {},
     "output_type": "execute_result"
    }
   ],
   "source": [
    "# grabbing the list inside of our list\n",
    "my_nested_list = my_list[3]\n",
    "# grabbing an item from the nested list\n",
    "my_nested_list[0]"
   ]
  },
  {
   "cell_type": "code",
   "execution_count": 12,
   "metadata": {},
   "outputs": [
    {
     "data": {
      "text/plain": [
       "'cheese pizza'"
      ]
     },
     "execution_count": 12,
     "metadata": {},
     "output_type": "execute_result"
    }
   ],
   "source": [
    "# We can skip that extra step and just chain our indexing:\n",
    "my_list[3][0]"
   ]
  },
  {
   "cell_type": "markdown",
   "metadata": {},
   "source": [
    "<a style = \"color:gray\" href = \"#top\">Return to the Table of Contents</a>"
   ]
  },
  {
   "cell_type": "markdown",
   "metadata": {},
   "source": [
    "#### Reassigning Items in a List <a id = \"link1a\"></a>\n",
    "What if we wanted to replace things in our list? Unlike a string, python wont return an error when we try to reassign a list item. This is because strings are <span title=\"you can't change its contents, otherwise python will throw an error\">**immutable ▼**</span> while lists are <span title=\"'liable to change', basically you can reassign/change its contents\">**mutable ▼**</span>.\n"
   ]
  },
  {
   "cell_type": "code",
   "execution_count": 12,
   "metadata": {},
   "outputs": [
    {
     "ename": "TypeError",
     "evalue": "'str' object does not support item assignment",
     "output_type": "error",
     "traceback": [
      "\u001b[0;31m---------------------------------------------------------------------------\u001b[0m",
      "\u001b[0;31mTypeError\u001b[0m                                 Traceback (most recent call last)",
      "\u001b[0;32m<ipython-input-12-e7a29448767b>\u001b[0m in \u001b[0;36m<module>\u001b[0;34m\u001b[0m\n\u001b[1;32m      1\u001b[0m \u001b[0mmy_string\u001b[0m \u001b[0;34m=\u001b[0m \u001b[0;34m\"potato king\"\u001b[0m\u001b[0;34m\u001b[0m\u001b[0;34m\u001b[0m\u001b[0m\n\u001b[0;32m----> 2\u001b[0;31m \u001b[0mmy_string\u001b[0m\u001b[0;34m[\u001b[0m\u001b[0;36m7\u001b[0m\u001b[0;34m:\u001b[0m\u001b[0;34m]\u001b[0m \u001b[0;34m=\u001b[0m \u001b[0;34m\"queen\"\u001b[0m\u001b[0;34m\u001b[0m\u001b[0;34m\u001b[0m\u001b[0m\n\u001b[0m",
      "\u001b[0;31mTypeError\u001b[0m: 'str' object does not support item assignment"
     ]
    }
   ],
   "source": [
    "# trying to reassign the letters in a string causes an error\n",
    "my_string = \"potato king\"\n",
    "my_string[7:] = \"queen\""
   ]
  },
  {
   "cell_type": "code",
   "execution_count": 13,
   "metadata": {},
   "outputs": [
    {
     "name": "stdout",
     "output_type": "stream",
     "text": [
      "[12, 'rotini queen', 8.53]\n"
     ]
    }
   ],
   "source": [
    "my_list[1] = \"rotini queen\"\n",
    "print(my_list)"
   ]
  },
  {
   "cell_type": "markdown",
   "metadata": {},
   "source": [
    "<a style = \"color:gray\" href = \"#top\">Return to the Table of Contents</a>"
   ]
  },
  {
   "cell_type": "markdown",
   "metadata": {},
   "source": [
    "#### Useful List Functions/Methods <a id = \"link1b\"></a>\n",
    "* checking the length of a list using **len()**\n",
    "* adding items to a list using **my_list.append(element)** and the **my_list.insert(index, element)**\n",
    "* removing items with **my_list.pop(index)**\n",
    "    * .pop() alone with no index passed into the parentheses removes the last element on the list\n",
    "* sorting items alphabetically or numerically with **my_list.sort()**\n",
    "* reversing a list with **my_list.reverse()**\n",
    "* finding items in a list using **my_list.index(val)**\n"
   ]
  },
  {
   "cell_type": "markdown",
   "metadata": {},
   "source": [
    "##### Getting the Length of a List <a id = \"link1c\"></a>\n"
   ]
  },
  {
   "cell_type": "code",
   "execution_count": 9,
   "metadata": {},
   "outputs": [
    {
     "data": {
      "text/plain": [
       "3"
      ]
     },
     "execution_count": 9,
     "metadata": {},
     "output_type": "execute_result"
    }
   ],
   "source": [
    "len(my_list)"
   ]
  },
  {
   "cell_type": "markdown",
   "metadata": {},
   "source": [
    "<a style = \"color:gray\" href = \"#top\">Return to the Table of Contents</a>"
   ]
  },
  {
   "cell_type": "markdown",
   "metadata": {},
   "source": [
    "##### Adding Items to a List <a id = \"link1d\"></a>\n"
   ]
  },
  {
   "cell_type": "code",
   "execution_count": 14,
   "metadata": {},
   "outputs": [
    {
     "data": {
      "text/plain": [
       "[12, 'rotini queen', 8.53, 'appended item']"
      ]
     },
     "execution_count": 14,
     "metadata": {},
     "output_type": "execute_result"
    }
   ],
   "source": [
    "# let's add something to my_list using the .append(element) method\n",
    "my_list.append(\"appended item\")\n",
    "my_list"
   ]
  },
  {
   "cell_type": "code",
   "execution_count": null,
   "metadata": {},
   "outputs": [],
   "source": [
    "# now let's insert something using the .insert(pos, element) methhod"
   ]
  },
  {
   "cell_type": "markdown",
   "metadata": {},
   "source": [
    "<a style = \"color:gray\" href = \"#top\">Return to the Table of Contents</a>"
   ]
  },
  {
   "cell_type": "markdown",
   "metadata": {},
   "source": [
    "##### Removing Items from a List <a id = \"link1e\"></a>\n"
   ]
  },
  {
   "cell_type": "code",
   "execution_count": 15,
   "metadata": {},
   "outputs": [
    {
     "data": {
      "text/plain": [
       "'appended item'"
      ]
     },
     "execution_count": 15,
     "metadata": {},
     "output_type": "execute_result"
    }
   ],
   "source": [
    "# now let's get rid of it\n",
    "my_list.pop()"
   ]
  },
  {
   "cell_type": "code",
   "execution_count": 16,
   "metadata": {},
   "outputs": [
    {
     "data": {
      "text/plain": [
       "[12, 'rotini queen', 8.53]"
      ]
     },
     "execution_count": 16,
     "metadata": {},
     "output_type": "execute_result"
    }
   ],
   "source": [
    "# notice how it's gone! \n",
    "my_list"
   ]
  },
  {
   "cell_type": "code",
   "execution_count": 18,
   "metadata": {},
   "outputs": [
    {
     "name": "stdout",
     "output_type": "stream",
     "text": [
      "4\n",
      "[1, 2, 3, 5, 6]\n"
     ]
    }
   ],
   "source": [
    "# if you don't pass anything into the parenthesis, it defaults to -1\n",
    "# this is essentially the last item in the list\n",
    "my_list2 = [1,2,3,4,5,6]\n",
    "# let's try removing the 4 in my_list2\n",
    "print(my_list2.pop(3))\n",
    "print(my_list2)"
   ]
  },
  {
   "cell_type": "code",
   "execution_count": 19,
   "metadata": {},
   "outputs": [
    {
     "name": "stdout",
     "output_type": "stream",
     "text": [
      "1\n",
      "[2, 3, 5, 6]\n"
     ]
    }
   ],
   "source": [
    "# The .pop() function actually returns the item it removes\n",
    "# This means you can actually store it as a variable!\n",
    "my_popped_item = my_list2.pop(0)\n",
    "print(my_popped_item)\n",
    "print(my_list2)"
   ]
  },
  {
   "cell_type": "markdown",
   "metadata": {},
   "source": [
    "<a style = \"color:gray\" href = \"#top\">Return to the Table of Contents</a>"
   ]
  },
  {
   "cell_type": "markdown",
   "metadata": {},
   "source": [
    "##### Sorting and Reversing Items in a List <a id = \"link1f\"></a>\n"
   ]
  },
  {
   "cell_type": "code",
   "execution_count": 28,
   "metadata": {},
   "outputs": [
    {
     "name": "stdout",
     "output_type": "stream",
     "text": [
      "Original: \n",
      " [21, 3, 42, 10]\n",
      "After Calling Sort: \n",
      " [3, 10, 21, 42]\n",
      "\n",
      "Original: \n",
      " ['Xiaoping', 'Jimmy', 'Sanghvi', 'Levi', 'Jerome', 'Angelo']\n",
      "After Calling Sort: \n",
      " ['Angelo', 'Jerome', 'Jimmy', 'Levi', 'Sanghvi', 'Xiaoping']\n"
     ]
    }
   ],
   "source": [
    "# the sort function will sort items from least to greatest \n",
    "# or alphabetically if it's a list of strings\n",
    "my_list3 = [21,3,42,10]\n",
    "print(f\"Original: \\n {my_list3}\")\n",
    "my_list3.sort()\n",
    "print(f\"After Calling Sort: \\n {my_list3}\")\n",
    "my_list4 = [\"Xiaoping\", \"Jimmy\",\"Sanghvi\",\"Levi\",\"Jerome\", \"Angelo\"]\n",
    "print(f\"\\nOriginal: \\n {my_list4}\")\n",
    "my_list4.sort()\n",
    "print(f\"After Calling Sort: \\n {my_list4}\")"
   ]
  },
  {
   "cell_type": "code",
   "execution_count": 30,
   "metadata": {},
   "outputs": [
    {
     "data": {
      "text/plain": [
       "[323, 23, 10, 2, 1, 1]"
      ]
     },
     "execution_count": 30,
     "metadata": {},
     "output_type": "execute_result"
    }
   ],
   "source": [
    "# if you want to do it in the opposite order, you can call .reverse()\n",
    "my_list5 = [1,2,323,1,23,10]\n",
    "# this list gets sorted from least to greatest\n",
    "my_list5.sort()\n",
    "my_list5.reverse()\n",
    "my_list5"
   ]
  },
  {
   "cell_type": "markdown",
   "metadata": {},
   "source": [
    "<a style = \"color:gray\" href = \"#top\">Return to the Table of Contents</a>"
   ]
  },
  {
   "cell_type": "markdown",
   "metadata": {},
   "source": [
    "##### Common Mistake with Sort() <a id = \"link1g\"></a>\n",
    "The sort function actually **doesn't return anything**. This is why setting it equal to a variable will result in a NoneType and why chaining functions would cause an error to occur\n",
    "\n"
   ]
  },
  {
   "cell_type": "code",
   "execution_count": 31,
   "metadata": {},
   "outputs": [
    {
     "data": {
      "text/plain": [
       "NoneType"
      ]
     },
     "execution_count": 31,
     "metadata": {},
     "output_type": "execute_result"
    }
   ],
   "source": [
    "my_sorted_list = my_list5.sort()\n",
    "type(my_sorted_list)"
   ]
  },
  {
   "cell_type": "code",
   "execution_count": 2,
   "metadata": {},
   "outputs": [
    {
     "ename": "NameError",
     "evalue": "name 'my_list5' is not defined",
     "output_type": "error",
     "traceback": [
      "\u001b[0;31m---------------------------------------------------------------------------\u001b[0m",
      "\u001b[0;31mNameError\u001b[0m                                 Traceback (most recent call last)",
      "\u001b[0;32m<ipython-input-2-ab93cc647e42>\u001b[0m in \u001b[0;36m<module>\u001b[0;34m\u001b[0m\n\u001b[1;32m      1\u001b[0m \u001b[0;31m# Method chaining DOESN'T WORK because my_list5.sort() doesn't return anything\u001b[0m\u001b[0;34m\u001b[0m\u001b[0;34m\u001b[0m\u001b[0;34m\u001b[0m\u001b[0m\n\u001b[0;32m----> 2\u001b[0;31m \u001b[0mmy_list5\u001b[0m\u001b[0;34m.\u001b[0m\u001b[0msort\u001b[0m\u001b[0;34m(\u001b[0m\u001b[0;34m)\u001b[0m\u001b[0;34m.\u001b[0m\u001b[0mreverse\u001b[0m\u001b[0;34m(\u001b[0m\u001b[0;34m)\u001b[0m\u001b[0;34m\u001b[0m\u001b[0;34m\u001b[0m\u001b[0m\n\u001b[0m",
      "\u001b[0;31mNameError\u001b[0m: name 'my_list5' is not defined"
     ]
    }
   ],
   "source": [
    "# Method chaining DOESN'T WORK because my_list5.sort() doesn't return anything\n",
    "my_list5.sort().reverse()"
   ]
  },
  {
   "cell_type": "markdown",
   "metadata": {},
   "source": [
    "<a style = \"color:gray\" href = \"#top\">Return to the Table of Contents</a>"
   ]
  },
  {
   "cell_type": "markdown",
   "metadata": {},
   "source": [
    "### Lists Challenge 1: Guess the Output (Easier) <a id = \"link1h\"></a>\n",
    "Which of the following would be the value of my_list after all methods below are called? Run the cell to check your answer!\n",
    "\n",
    "**a.** [5, 4, 3, 2, 1] <br>\n",
    "**b.** [5, 4, 3, 2] <br>\n",
    "**c.** [1, 2, 3, 4] <br>\n",
    "**d.** [1, 2, 3, 4, 5] <br>\n",
    "**e.** [1, 2, 3, 4, 5, 5]\n",
    "\n"
   ]
  },
  {
   "cell_type": "code",
   "execution_count": 6,
   "metadata": {},
   "outputs": [],
   "source": [
    "my_list = [5,4,3,2,1]\n",
    "my_list.reverse()\n",
    "my_list.append(my_list.pop(len(my_list)-1))\n",
    "my_list.sort()"
   ]
  },
  {
   "cell_type": "markdown",
   "metadata": {},
   "source": [
    "<a style = \"color:gray\" href = \"#top\">Return to the Table of Contents</a>"
   ]
  },
  {
   "cell_type": "markdown",
   "metadata": {},
   "source": [
    "### List Challenge 2: Tic Tac Toe Board (Harder) <a id = \"link1i\"></a>\n",
    "Create a tic tac toe board using only list methods! Choose a pattern from one of the below options, then call the printBoard function to display it! You can also use other symbols instead of X and O (like emojis or ascii symbols)\n",
    "\n",
    "\n",
    "<table style = \"margin: 5px 20px 4% 0; display:inline-block\">\n",
    "    <caption style= \"font-weight: bold; color: black; text-align:center \"> X Wins</caption>\n",
    "    <tr>\n",
    "        <td>X</td>\n",
    "        <td>X</td>\n",
    "        <td>X</td>\n",
    "    </tr>\n",
    "    <tr>\n",
    "        <td>X</td>\n",
    "        <td>O</td>\n",
    "        <td>O</td>\n",
    "    </tr>\n",
    "    <tr>\n",
    "        <td>O</td>\n",
    "        <td>X</td>\n",
    "        <td>X</td>\n",
    "    </tr>\n",
    "</table>\n",
    "\n",
    "<table style = \"margin: 5px 20px 4% 0; display:inline-block \">\n",
    "    <caption style= \"font-weight: bold; color: black; text-align:center \"> O Wins</caption>\n",
    "    <tr>\n",
    "        <td>O</td>\n",
    "        <td>O</td>\n",
    "        <td>X</td>\n",
    "    </tr>\n",
    "    <tr>\n",
    "        <td>X</td>\n",
    "        <td>O</td>\n",
    "        <td>O</td>\n",
    "    </tr>\n",
    "    <tr>\n",
    "        <td>O</td>\n",
    "        <td>X</td>\n",
    "        <td>O</td>\n",
    "    </tr>\n",
    "</table>\n",
    "\n",
    "<table style = \"margin: 5px 20px 4% 0; display:inline-block \">\n",
    "    <caption style= \"font-weight: bold; color: black; text-align:center \"> Draw!</caption>\n",
    "    <tr>\n",
    "        <td>O</td>\n",
    "        <td>O</td>\n",
    "        <td>X</td>\n",
    "    </tr>\n",
    "    <tr>\n",
    "        <td>X</td>\n",
    "        <td>X</td>\n",
    "        <td>O</td>\n",
    "    </tr>\n",
    "    <tr>\n",
    "        <td>O</td>\n",
    "        <td>X</td>\n",
    "        <td>O</td>\n",
    "    </tr>\n",
    "</table>\n"
   ]
  },
  {
   "cell_type": "code",
   "execution_count": 47,
   "metadata": {},
   "outputs": [
    {
     "name": "stdout",
     "output_type": "stream",
     "text": [
      "|  | \n",
      "-----\n",
      "|  | \n",
      "-----\n",
      "|  | \n"
     ]
    }
   ],
   "source": [
    "def printBoard(board):\n",
    "    num_row = 1;\n",
    "    for row in board:\n",
    "        str_row = f\"{row[0]}| {row[1]} | {row[2]}\"\n",
    "        print(str_row)\n",
    "        if(num_row < 3):\n",
    "            print(\"-\"*len(str_row))\n",
    "            num_row += 1\n",
    "        \n",
    "my_board = [[\"\",\"\",\"\"],[\"\",\"\",\"\"],[\"\",\"\",\"\"]]\n",
    "# Without altering any of the above code or reassinging the entirety of my_board, copy one of the patterns\n",
    "# Write Code Here:\n",
    "\n",
    "\n",
    "printBoard(my_board)\n",
    "\n",
    "# Now switch the top and bottom rows with one another\n",
    "\n"
   ]
  },
  {
   "cell_type": "markdown",
   "metadata": {},
   "source": [
    "<a style = \"color:gray\" href = \"#top\">Return to the Table of Contents</a>"
   ]
  },
  {
   "cell_type": "code",
   "execution_count": 60,
   "metadata": {},
   "outputs": [
    {
     "data": {
      "text/html": [
       "<h2>Answers to Challenges</h2><hr>"
      ],
      "text/plain": [
       "<IPython.core.display.HTML object>"
      ]
     },
     "metadata": {},
     "output_type": "display_data"
    },
    {
     "data": {
      "application/vnd.jupyter.widget-view+json": {
       "model_id": "0a80a4738e9940f2aaa2d958c7a5a1a3",
       "version_major": 2,
       "version_minor": 0
      },
      "text/plain": [
       "Button(description='Answer to #1', style=ButtonStyle())"
      ]
     },
     "metadata": {},
     "output_type": "display_data"
    },
    {
     "data": {
      "application/vnd.jupyter.widget-view+json": {
       "model_id": "d88ddee42de54a9c97dbeffb889fcf82",
       "version_major": 2,
       "version_minor": 0
      },
      "text/plain": [
       "Button(description='Answer to #2', style=ButtonStyle())"
      ]
     },
     "metadata": {},
     "output_type": "display_data"
    },
    {
     "data": {
      "application/vnd.jupyter.widget-view+json": {
       "model_id": "3aee3cdb45974036adfaecdfc06d461b",
       "version_major": 2,
       "version_minor": 0
      },
      "text/plain": [
       "Output()"
      ]
     },
     "metadata": {},
     "output_type": "display_data"
    },
    {
     "data": {
      "text/html": [
       "<script>\n",
       "code_show=true;\n",
       "function code_toggle() {\n",
       "    if (code_show){\n",
       "        $('div.cell.code_cell.rendered.selected div.input').hide();\n",
       "    } else {\n",
       "        $('div.cell.code_cell.rendered.selected div.input').show();\n",
       "    }\n",
       "    code_show = !code_show\n",
       "} \n",
       "$( document ).ready(code_toggle);\n",
       "</script>\n",
       "Don't look, but I've hidden this cell's code (I didn't want to spoil the answers). If you're curious, you can click <a href=\"javascript:code_toggle()\">here</a> to look at the contents\n"
      ],
      "text/plain": [
       "<IPython.core.display.HTML object>"
      ]
     },
     "metadata": {},
     "output_type": "display_data"
    }
   ],
   "source": [
    "import ipywidgets as widgets\n",
    "from IPython.display import HTML\n",
    "from IPython.display import display\n",
    "tag = HTML('''<script>\n",
    "code_show=true;\n",
    "function code_toggle() {\n",
    "    if (code_show){\n",
    "        $('div.cell.code_cell.rendered.selected div.input').hide();\n",
    "    } else {\n",
    "        $('div.cell.code_cell.rendered.selected div.input').show();\n",
    "    }\n",
    "    code_show = !code_show\n",
    "} \n",
    "$( document ).ready(code_toggle);\n",
    "</script>\n",
    "Don't look, but I've hidden this cell's code (I didn't want to spoil the answers). If you're curious, you can click <a href=\"javascript:code_toggle()\">here</a> to look at the contents\n",
    "''')\n",
    "############### Actual Code ##################\n",
    "answer_button_1 = widgets.Button(\n",
    "    description=\"Answer to #1\"\n",
    ")\n",
    "answer_button_2 = widgets.Button(\n",
    "    description=\"Answer to #2\"\n",
    ")\n",
    "def challenge_1(b):\n",
    "    with output:\n",
    "        output.clear_output()\n",
    "        print(\"\"\" The answer is (D):\n",
    "        original list: [1,2,3,4,5]\n",
    "        1. my_list.reverse --> [5,4,3,2,1]\n",
    "        2. my_list.append(my_list.pop(len(my_list)-1))\n",
    "        3. len(my_list)-1 = 4, this is a common method to get the last item in a list or other iterable\n",
    "        4. my_list.pop(len(my_list)-1) --> my_list.pop(4) --> [5,4,3,2]\n",
    "        5. my_list.pop(4) --> becomes 1 since it .pop() returns the item it removes\n",
    "        6. my_list.append(my_list.pop(4)) --> my_list.append(1)\n",
    "        7. my_list.append(1) --> [5,4,3,2,1], since .append() adds an element to the end of the list\n",
    "        8. my_list.sort() --> [1,2,3,4,5], .sort() orders the list from least to greatest\n",
    "        \"\"\")\n",
    "def challenge_2(b):\n",
    "    with output:\n",
    "        output.clear_output()\n",
    "        print(\"\"\"\n",
    "        You could've reassigned the lists inside of the list:\n",
    "        --> Example: X Wins\n",
    "        my_board[0] = [\"X\",\"X\",\"X\"]\n",
    "        my_board[1] = [\"X\",\"O\",\"O\"]\n",
    "        my_board[2] = [\"O\",\"X\",\"X\"]\n",
    "        \n",
    "        Or you could've reassigned them individually:\n",
    "        --> Example: X Wins\n",
    "        my_board[0][0] = \"X\"\n",
    "        my_board[0][1] = \"X\"\n",
    "        my_board[0][2] = \"X\"\n",
    "        my_board[1][0] = \"X\"\n",
    "        my_board[1][1] = \"O\"\n",
    "        my_board[1][2] = \"O\"\n",
    "        my_board[2][0] = \"O\"\n",
    "        my_board[2][1] = \"X\"\n",
    "        my_board[2][2] = \"X\"\n",
    "        \"\"\")\n",
    "answer_button_1.on_click(challenge_1)\n",
    "answer_button_2.on_click(challenge_2)\n",
    "output = widgets.Output()\n",
    "display(HTML(\"<h2>Answers to Challenges</h2><hr>\"),answer_button_1, answer_button_2, output, tag)"
   ]
  },
  {
   "cell_type": "markdown",
   "metadata": {},
   "source": [
    "### Tuples <a id = \"link2\"></a>\n",
    "Tuples are very similar to lists except for two things: they are **immutable** and use parenthesis, (), instead of square brackets, []. After you create a tuple, you CANNOT reassign a value in the tuple.\n",
    "\n",
    "**Why use a tuple?** For now, they're not super useful, but as you create more complex programs, you will want to create collections of items that can't be altered (usually to prevent bugs or problems with your code)\n"
   ]
  },
  {
   "cell_type": "code",
   "execution_count": 51,
   "metadata": {},
   "outputs": [
    {
     "name": "stdout",
     "output_type": "stream",
     "text": [
      "blue\n",
      "('blue', 1.2)\n"
     ]
    },
    {
     "data": {
      "text/plain": [
       "tuple"
      ]
     },
     "execution_count": 51,
     "metadata": {},
     "output_type": "execute_result"
    }
   ],
   "source": [
    "# we can index and slice tuples\n",
    "my_tuple = (12,\"blue\",1.2)\n",
    "print(my_tuple[1])\n",
    "print(my_tuple[1:])\n",
    "type(my_tuple)"
   ]
  },
  {
   "cell_type": "code",
   "execution_count": 50,
   "metadata": {},
   "outputs": [
    {
     "ename": "TypeError",
     "evalue": "'tuple' object does not support item assignment",
     "output_type": "error",
     "traceback": [
      "\u001b[0;31m---------------------------------------------------------------------------\u001b[0m",
      "\u001b[0;31mTypeError\u001b[0m                                 Traceback (most recent call last)",
      "\u001b[0;32m<ipython-input-50-539074ad43e3>\u001b[0m in \u001b[0;36m<module>\u001b[0;34m\u001b[0m\n\u001b[1;32m      1\u001b[0m \u001b[0;31m# but we CANNOT reassign them\u001b[0m\u001b[0;34m\u001b[0m\u001b[0;34m\u001b[0m\u001b[0;34m\u001b[0m\u001b[0m\n\u001b[0;32m----> 2\u001b[0;31m \u001b[0mmy_tuple\u001b[0m\u001b[0;34m[\u001b[0m\u001b[0;36m1\u001b[0m\u001b[0;34m]\u001b[0m \u001b[0;34m=\u001b[0m \u001b[0;34m\"red\"\u001b[0m\u001b[0;34m\u001b[0m\u001b[0;34m\u001b[0m\u001b[0m\n\u001b[0m",
      "\u001b[0;31mTypeError\u001b[0m: 'tuple' object does not support item assignment"
     ]
    }
   ],
   "source": [
    "# but we CANNOT reassign them, we get an ERROR\n",
    "my_tuple[1] = \"red\""
   ]
  },
  {
   "cell_type": "markdown",
   "metadata": {},
   "source": [
    "<a style = \"color:gray\" href = \"#top\">Return to the Table of Contents</a>"
   ]
  },
  {
   "cell_type": "markdown",
   "metadata": {},
   "source": [
    "#### Tuple Methods <a id = \"link2a\"></a>\n",
    "##### Count <a id = \"link2ai\"></a>\n",
    "Returns the number of items in a tuple\n"
   ]
  },
  {
   "cell_type": "code",
   "execution_count": 52,
   "metadata": {},
   "outputs": [
    {
     "data": {
      "text/plain": [
       "2"
      ]
     },
     "execution_count": 52,
     "metadata": {},
     "output_type": "execute_result"
    }
   ],
   "source": [
    "my_tuple2 = (\"a\",\"a\",\"b\")\n",
    "my_tuple2.count(\"a\")"
   ]
  },
  {
   "cell_type": "markdown",
   "metadata": {},
   "source": [
    "<a style = \"color:gray\" href = \"#top\">Return to the Table of Contents</a>"
   ]
  },
  {
   "cell_type": "markdown",
   "metadata": {},
   "source": [
    "##### Index <a id = \"link2aii\"></a>\n",
    "Returns the first occurence of something inside of a tuple"
   ]
  },
  {
   "cell_type": "code",
   "execution_count": 54,
   "metadata": {},
   "outputs": [
    {
     "name": "stdout",
     "output_type": "stream",
     "text": [
      "0\n",
      "2\n"
     ]
    }
   ],
   "source": [
    "print(my_tuple2.index(\"a\"))\n",
    "print(my_tuple2.index(\"b\"))"
   ]
  },
  {
   "cell_type": "markdown",
   "metadata": {},
   "source": [
    "<a style = \"color:gray\" href = \"#top\">Return to the Table of Contents</a>"
   ]
  },
  {
   "cell_type": "markdown",
   "metadata": {},
   "source": [
    "#### Tuple Unpacking and Assignment <a id = \"link2b\"></a>\n",
    "Tuple Unpacking and Assignment are two of the most powerful shortcut tools for creating variables.\n",
    "\n",
    "##### Unpacking <a id = \"link2bi\"></a>\n",
    "Tuple unpacking can be extremely useful: it lets you assign variables to specific items in your tuple. They number of tuples on the left MUST equal the number of tuples on the right!"
   ]
  },
  {
   "cell_type": "code",
   "execution_count": 75,
   "metadata": {},
   "outputs": [
    {
     "name": "stdout",
     "output_type": "stream",
     "text": [
      "cheese\n",
      "bread\n",
      "wine\n"
     ]
    }
   ],
   "source": [
    "# we can \"unpack\" tuples into separate variables\n",
    "my_tuple = (\"cheese\",\"bread\",\"wine\")\n",
    "(dairy, carbs, drink) = my_tuple\n",
    "print(dairy)\n",
    "print(carbs)\n",
    "print(drink)"
   ]
  },
  {
   "cell_type": "code",
   "execution_count": 1,
   "metadata": {},
   "outputs": [
    {
     "ename": "ValueError",
     "evalue": "too many values to unpack (expected 2)",
     "output_type": "error",
     "traceback": [
      "\u001b[0;31m---------------------------------------------------------------------------\u001b[0m",
      "\u001b[0;31mValueError\u001b[0m                                Traceback (most recent call last)",
      "\u001b[0;32m<ipython-input-1-54fbaca33bdf>\u001b[0m in \u001b[0;36m<module>\u001b[0;34m\u001b[0m\n\u001b[1;32m      1\u001b[0m \u001b[0mmy_tuple2\u001b[0m \u001b[0;34m=\u001b[0m \u001b[0;34m(\u001b[0m\u001b[0;34m\"see\"\u001b[0m\u001b[0;34m,\u001b[0m \u001b[0;34m\"touch\"\u001b[0m\u001b[0;34m,\u001b[0m \u001b[0;34m\"hear\"\u001b[0m\u001b[0;34m,\u001b[0m \u001b[0;34m\"smell\"\u001b[0m\u001b[0;34m)\u001b[0m\u001b[0;34m\u001b[0m\u001b[0;34m\u001b[0m\u001b[0m\n\u001b[0;32m----> 2\u001b[0;31m \u001b[0;34m(\u001b[0m\u001b[0meye_function\u001b[0m\u001b[0;34m,\u001b[0m \u001b[0mhand_function\u001b[0m\u001b[0;34m)\u001b[0m \u001b[0;34m=\u001b[0m \u001b[0mmy_tuple2\u001b[0m\u001b[0;34m\u001b[0m\u001b[0;34m\u001b[0m\u001b[0m\n\u001b[0m",
      "\u001b[0;31mValueError\u001b[0m: too many values to unpack (expected 2)"
     ]
    }
   ],
   "source": [
    "# the # of items on the left MUST equal the ones on the right\n",
    "my_tuple2 = (\"see\", \"touch\", \"hear\", \"smell\")\n",
    "(eye_function, hand_function) = my_tuple2"
   ]
  },
  {
   "cell_type": "markdown",
   "metadata": {},
   "source": [
    "<a style = \"color:gray\" href = \"#top\">Return to the Table of Contents</a>"
   ]
  },
  {
   "cell_type": "markdown",
   "metadata": {},
   "source": [
    "##### Assignment  <a id = \"link2bii\"></a>\n",
    "Tuple unpacking implies the ability to use **tuple assignment**. This means you can assign multiple variables in the same line! What you're doing is essentially the same, but you omit the parentheses"
   ]
  },
  {
   "cell_type": "code",
   "execution_count": 74,
   "metadata": {},
   "outputs": [
    {
     "name": "stdout",
     "output_type": "stream",
     "text": [
      "2\n",
      "5\n"
     ]
    }
   ],
   "source": [
    "# assigning values to two variables at once\n",
    "x, y = 2,5\n",
    "print(x)\n",
    "print(y)"
   ]
  },
  {
   "cell_type": "code",
   "execution_count": 3,
   "metadata": {},
   "outputs": [
    {
     "name": "stdout",
     "output_type": "stream",
     "text": [
      "potatoes\n",
      "celery\n"
     ]
    }
   ],
   "source": [
    "my_var = \"potatoes\"\n",
    "x, my_var = my_var, \"celery\"\n",
    "print(x)\n",
    "print(my_var)"
   ]
  },
  {
   "cell_type": "code",
   "execution_count": 5,
   "metadata": {},
   "outputs": [
    {
     "name": "stdout",
     "output_type": "stream",
     "text": [
      "potatoes\n",
      "celery\n"
     ]
    }
   ],
   "source": [
    "my_var = \"potatoes\"\n",
    "my_var, x = \"celery\", my_var\n",
    "print(x)\n",
    "print(my_var)"
   ]
  },
  {
   "cell_type": "markdown",
   "metadata": {},
   "source": [
    "Notice above how **the order I put my_var in doesn't matter**! Even though you may think that my_var will get assigned \"celery\" first and cause x to also be assigned \"celery\" because my_var comes first in the second example, python's smarter than that. \n",
    "\n",
    "In tuple unpacking, Python creates a tuple with a *copy* of the variables before it reassigns them:\n",
    "    \n",
    "<div><code style = \"display: inline-block; text-align:center; margin: auto 38%\">my_var = \"potatoes\"\n",
    "my_var, x = <span style = \"background-color: yellow\">\"celery\", my_var</span></code></div>\n",
    "\n",
    "<p style = \"font-style: italic; text-align: center; margin-bottom: 0\">the tuple is created first</p>\n",
    "<p style = \"font-size:40px; text-align: center; margin-top:4px\">↓</p>\n",
    "<table>\n",
    "    <caption style = \"color: black; font-weight: bolder\">Temporary Tuple Created:</caption>\n",
    "    <tr>\n",
    "        <th style = \"text-align: center; border: 1px solid black\">elements</th>\n",
    "        <td style = \"text-align: center; border: 1px solid black\">\"celery\"</td>\n",
    "        <td style = \"text-align: center; border: 1px solid black\">\"potatoes\"</td>\n",
    "    </tr>\n",
    "    <tr>\n",
    "        <th style = \"text-align: center; border: 1px solid black\">indexes</th>\n",
    "        <td style = \"text-align: center; border: 1px solid black\">0</td>\n",
    "        <td style = \"text-align: center; border: 1px solid black\">1</td>\n",
    "    </tr>\n",
    "</table>\n",
    "\n",
    "*Then python creates the tuple on the left*\n",
    "\n",
    "<div><code style = \"display: inline-block; text-align:center; margin: auto 38%\">my_var = \"potatoes\"\n",
    "<span style = \"background-color: yellow\">my_var, x</span> = \"celery\", my_var</code></div>\n",
    "\n",
    "<p style = \"font-style: italic; text-align: center; margin-bottom: 0\">another tuple is created</p>\n",
    "<p style = \"font-size:40px; text-align: center; margin-top:4px\">↓</p>\n",
    "<table>\n",
    "    <caption style = \"color: black; font-weight: bolder\">Temporary Tuple Created:</caption>\n",
    "    <tr>\n",
    "        <th style = \"text-align: center; border: 1px solid black\">elements/variables</th>\n",
    "        <td style = \"text-align: center; border: 1px solid black\">my_var</td>\n",
    "        <td style = \"text-align: center; border: 1px solid black\">x</td>\n",
    "    </tr>\n",
    "    <tr>\n",
    "        <th style = \"text-align: center; border: 1px solid black\">indexes</th>\n",
    "        <td style = \"text-align: center; border: 1px solid black\">0</td>\n",
    "        <td style = \"text-align: center; border: 1px solid black\">1</td>\n",
    "    </tr>\n",
    "</table>\n",
    "\n",
    "Once all of that is complete, python assigns the variables my_var and x to the corresponding values in the indexes of the second tuple!\n",
    "\n",
    "* <code>my_var</code> maps to \"celery\" because they are both at index position 0\n",
    "* <code>x</code> maps to \"potatoes\" because they are both at index position 1"
   ]
  },
  {
   "cell_type": "markdown",
   "metadata": {},
   "source": [
    "<a style = \"color:gray\" href = \"#top\">Return to the Table of Contents</a>"
   ]
  },
  {
   "cell_type": "markdown",
   "metadata": {},
   "source": [
    "### Challenge 3: Reverse Tuple (Easier) <a id = \"link2c\"></a>\n",
    "A student is trying to create a tuple and reverse it, but they keep getting an error. Can you fix their code so that they reverse the tuple?"
   ]
  },
  {
   "cell_type": "code",
   "execution_count": 20,
   "metadata": {},
   "outputs": [],
   "source": [
    "my_tuple = (1,2,3,4)\n",
    "# write your code here"
   ]
  },
  {
   "cell_type": "markdown",
   "metadata": {},
   "source": [
    "<a style = \"color:gray\" href = \"#top\">Return to the Table of Contents</a>"
   ]
  },
  {
   "cell_type": "markdown",
   "metadata": {},
   "source": [
    "### Challenge 4: Single Line Swap (Harder) <a id = \"link2d\"></a>\n",
    "Remember how you used temp to swap two variables? This time, can you swap two variables without creating that third temp variable? (This is a common coding interview question, and relies on your knowledge of tuple unpacking/assignment)"
   ]
  },
  {
   "cell_type": "code",
   "execution_count": 21,
   "metadata": {},
   "outputs": [
    {
     "data": {
      "text/plain": [
       "False"
      ]
     },
     "execution_count": 21,
     "metadata": {},
     "output_type": "execute_result"
    }
   ],
   "source": [
    "x = 5\n",
    "y = 12\n",
    "# write your code here:\n",
    "\n",
    "# run this cell to check, it should say True if you got it right\n",
    "x==12 and y==5"
   ]
  },
  {
   "cell_type": "markdown",
   "metadata": {},
   "source": [
    "<a style = \"color:gray\" href = \"#top\">Return to the Table of Contents</a>"
   ]
  },
  {
   "cell_type": "code",
   "execution_count": 88,
   "metadata": {},
   "outputs": [
    {
     "data": {
      "text/html": [
       "<h2>Answers to Challenges</h2><hr>"
      ],
      "text/plain": [
       "<IPython.core.display.HTML object>"
      ]
     },
     "metadata": {},
     "output_type": "display_data"
    },
    {
     "data": {
      "application/vnd.jupyter.widget-view+json": {
       "model_id": "40e9e051dded49809588c627d4fe7d11",
       "version_major": 2,
       "version_minor": 0
      },
      "text/plain": [
       "Button(description='Answer to #3', style=ButtonStyle())"
      ]
     },
     "metadata": {},
     "output_type": "display_data"
    },
    {
     "data": {
      "application/vnd.jupyter.widget-view+json": {
       "model_id": "eb29d4791b154dfa98e64a996dfa5a3c",
       "version_major": 2,
       "version_minor": 0
      },
      "text/plain": [
       "Button(description='Answer to #4', style=ButtonStyle())"
      ]
     },
     "metadata": {},
     "output_type": "display_data"
    },
    {
     "data": {
      "application/vnd.jupyter.widget-view+json": {
       "model_id": "9730ca8613c64834ae64d5a2ff1ecc20",
       "version_major": 2,
       "version_minor": 0
      },
      "text/plain": [
       "Output()"
      ]
     },
     "metadata": {},
     "output_type": "display_data"
    },
    {
     "data": {
      "text/html": [
       "<script>\n",
       "code_show=true;\n",
       "function code_toggle() {\n",
       "    if (code_show){\n",
       "        $('div.cell.code_cell.rendered.selected div.input').hide();\n",
       "    } else {\n",
       "        $('div.cell.code_cell.rendered.selected div.input').show();\n",
       "    }\n",
       "    code_show = !code_show\n",
       "} \n",
       "$( document ).ready(code_toggle);\n",
       "</script>\n",
       "Don't look, but I've hidden this cell's code (I didn't want to spoil the answers). If you're curious, you can click <a href=\"javascript:code_toggle()\">here</a> to look at the contents\n"
      ],
      "text/plain": [
       "<IPython.core.display.HTML object>"
      ]
     },
     "metadata": {},
     "output_type": "display_data"
    }
   ],
   "source": [
    "tag = HTML('''<script>\n",
    "code_show=true;\n",
    "function code_toggle() {\n",
    "    if (code_show){\n",
    "        $('div.cell.code_cell.rendered.selected div.input').hide();\n",
    "    } else {\n",
    "        $('div.cell.code_cell.rendered.selected div.input').show();\n",
    "    }\n",
    "    code_show = !code_show\n",
    "} \n",
    "$( document ).ready(code_toggle);\n",
    "</script>\n",
    "Don't look, but I've hidden this cell's code (I didn't want to spoil the answers). If you're curious, you can click <a href=\"javascript:code_toggle()\">here</a> to look at the contents\n",
    "''')\n",
    "############### Actual Code ##################\n",
    "answer_button_1 = widgets.Button(\n",
    "    description=\"Answer to #3\"\n",
    ")\n",
    "answer_button_2 = widgets.Button(\n",
    "    description=\"Answer to #4\"\n",
    ")\n",
    "def challenge_1(b):\n",
    "    with output:\n",
    "        output.clear_output()\n",
    "        print(\"Use Indexing --> my_tuple[::-1]\")\n",
    "def challenge_2(b):\n",
    "    with output:\n",
    "        output.clear_output()\n",
    "        print(\"x, y = y, x\")\n",
    "answer_button_1.on_click(challenge_1)\n",
    "answer_button_2.on_click(challenge_2)\n",
    "output = widgets.Output()\n",
    "display(HTML(\"<h2>Answers to Challenges</h2><hr>\"),answer_button_1, answer_button_2, output, tag)"
   ]
  },
  {
   "cell_type": "markdown",
   "metadata": {},
   "source": [
    "### Sets <a id = \"link3\"></a>\n",
    "A set in python is an unordered collection of **unique** elements. <u>There can be no duplicate items</u>. A set can contain 1,2,3,4,8, but it cannot contain 1,2,2,3,4,8.\n",
    "\n",
    "#### Creating a Set <a id = \"link3a\"></a>\n",
    "When making a set, we don't actually pass in the values first. Instead, we have to create a set and then add onto it using its .add() method."
   ]
  },
  {
   "cell_type": "code",
   "execution_count": 61,
   "metadata": {},
   "outputs": [
    {
     "name": "stdout",
     "output_type": "stream",
     "text": [
      "set()\n"
     ]
    },
    {
     "data": {
      "text/plain": [
       "set"
      ]
     },
     "execution_count": 61,
     "metadata": {},
     "output_type": "execute_result"
    }
   ],
   "source": [
    "my_set = set()\n",
    "print(my_set)\n",
    "type(my_set)"
   ]
  },
  {
   "cell_type": "code",
   "execution_count": 65,
   "metadata": {},
   "outputs": [
    {
     "data": {
      "text/plain": [
       "{1, 2, 3}"
      ]
     },
     "execution_count": 65,
     "metadata": {},
     "output_type": "execute_result"
    }
   ],
   "source": [
    "# notice how the set ignores the second add\n",
    "my_set.add(1)\n",
    "my_set.add(2)\n",
    "my_set.add(2)\n",
    "my_set.add(3)\n",
    "my_set"
   ]
  },
  {
   "cell_type": "markdown",
   "metadata": {},
   "source": [
    "<a style = \"color:gray\" href = \"#top\">Return to the Table of Contents</a>"
   ]
  },
  {
   "cell_type": "markdown",
   "metadata": {},
   "source": [
    "#### Type Casting Lists to Sets <a id = \"link3b\"></a>\n",
    "In python we can do something neat called **type-casting**, which can transform certain types:"
   ]
  },
  {
   "cell_type": "code",
   "execution_count": 66,
   "metadata": {},
   "outputs": [
    {
     "data": {
      "text/plain": [
       "'1234'"
      ]
     },
     "execution_count": 66,
     "metadata": {},
     "output_type": "execute_result"
    }
   ],
   "source": [
    "str(1234)"
   ]
  },
  {
   "cell_type": "code",
   "execution_count": 68,
   "metadata": {},
   "outputs": [
    {
     "data": {
      "text/plain": [
       "1234"
      ]
     },
     "execution_count": 68,
     "metadata": {},
     "output_type": "execute_result"
    }
   ],
   "source": [
    "int(\"1234\")"
   ]
  },
  {
   "cell_type": "code",
   "execution_count": 69,
   "metadata": {},
   "outputs": [
    {
     "data": {
      "text/plain": [
       "12.0"
      ]
     },
     "execution_count": 69,
     "metadata": {},
     "output_type": "execute_result"
    }
   ],
   "source": [
    "float(12)"
   ]
  },
  {
   "cell_type": "code",
   "execution_count": 71,
   "metadata": {},
   "outputs": [
    {
     "data": {
      "text/plain": [
       "12"
      ]
     },
     "execution_count": 71,
     "metadata": {},
     "output_type": "execute_result"
    }
   ],
   "source": [
    "# casting a float to an int doesn't round\n",
    "# it truncates: everything after the decimal is dropped\n",
    "int(12.8)"
   ]
  },
  {
   "cell_type": "markdown",
   "metadata": {},
   "source": [
    "You can use typecasting to create a set from a list and vice versa!"
   ]
  },
  {
   "cell_type": "code",
   "execution_count": 14,
   "metadata": {},
   "outputs": [
    {
     "data": {
      "text/plain": [
       "{1, 2, 3, 4, 5, 6}"
      ]
     },
     "execution_count": 14,
     "metadata": {},
     "output_type": "execute_result"
    }
   ],
   "source": [
    "my_list = [1,2,3,4,5,5,6,3,3,2]\n",
    "my_set = set(my_list)\n",
    "my_set"
   ]
  },
  {
   "cell_type": "code",
   "execution_count": 15,
   "metadata": {},
   "outputs": [
    {
     "name": "stdout",
     "output_type": "stream",
     "text": [
      "<class 'list'>\n",
      "<class 'set'>\n"
     ]
    }
   ],
   "source": [
    "# type checking\n",
    "print(type(my_list))\n",
    "print(type(my_set))"
   ]
  },
  {
   "cell_type": "code",
   "execution_count": 18,
   "metadata": {},
   "outputs": [
    {
     "name": "stdout",
     "output_type": "stream",
     "text": [
      "[1, 2, 3, 4, 5, 6]\n",
      "<class 'list'>\n"
     ]
    }
   ],
   "source": [
    "my_new_list = list(my_set)\n",
    "print(my_new_list)\n",
    "print(type(my_new_list))"
   ]
  },
  {
   "cell_type": "markdown",
   "metadata": {},
   "source": [
    "<a style = \"color:gray\" href = \"#top\">Return to the Table of Contents</a>"
   ]
  },
  {
   "cell_type": "markdown",
   "metadata": {},
   "source": [
    "#### Removing items from a set <a id = \"link3c\"></a>\n",
    "Sets have a .remove() method that allows you to remove a specified element in the list"
   ]
  },
  {
   "cell_type": "code",
   "execution_count": 21,
   "metadata": {},
   "outputs": [
    {
     "data": {
      "text/plain": [
       "{2, 3, 4, 'hat', 'owl'}"
      ]
     },
     "execution_count": 21,
     "metadata": {},
     "output_type": "execute_result"
    }
   ],
   "source": [
    "my_set = set([1,2,3,4,\"owl\", \"hat\",\"chicken\"])\n",
    "my_set.remove(\"chicken\")\n",
    "my_set.remove(1)\n",
    "my_set"
   ]
  },
  {
   "cell_type": "markdown",
   "metadata": {},
   "source": [
    "If the item doesn't exist, the .remove() will return an error!"
   ]
  },
  {
   "cell_type": "code",
   "execution_count": 23,
   "metadata": {},
   "outputs": [
    {
     "ename": "KeyError",
     "evalue": "1",
     "output_type": "error",
     "traceback": [
      "\u001b[0;31m---------------------------------------------------------------------------\u001b[0m",
      "\u001b[0;31mKeyError\u001b[0m                                  Traceback (most recent call last)",
      "\u001b[0;32m<ipython-input-23-7b948e10835c>\u001b[0m in \u001b[0;36m<module>\u001b[0;34m\u001b[0m\n\u001b[1;32m      1\u001b[0m \u001b[0;31m# we already removed 1!\u001b[0m\u001b[0;34m\u001b[0m\u001b[0;34m\u001b[0m\u001b[0;34m\u001b[0m\u001b[0m\n\u001b[0;32m----> 2\u001b[0;31m \u001b[0mmy_set\u001b[0m\u001b[0;34m.\u001b[0m\u001b[0mremove\u001b[0m\u001b[0;34m(\u001b[0m\u001b[0;36m1\u001b[0m\u001b[0;34m)\u001b[0m\u001b[0;34m\u001b[0m\u001b[0;34m\u001b[0m\u001b[0m\n\u001b[0m",
      "\u001b[0;31mKeyError\u001b[0m: 1"
     ]
    }
   ],
   "source": [
    "# we already removed 1!\n",
    "my_set.remove(1)"
   ]
  },
  {
   "cell_type": "markdown",
   "metadata": {},
   "source": [
    "<a style = \"color:gray\" href = \"#top\">Return to the Table of Contents</a>"
   ]
  },
  {
   "cell_type": "markdown",
   "metadata": {},
   "source": [
    "### Challenge 5: Remove Duplicate Messages (Easier) <a id = \"link3d\"></a>\n",
    "You are a developer designing a direct messaging system for a new social media site called Nstagram. There's an occassional bug that causes sent messages to get duplicated when someone views their chat history. \n",
    "\n",
    "You know that messages in chats are stored as a list of strings with an identifier in the first two characters of every string being either being a \"received\" message, for \"r:\" or \"s:\" for a \"sent\" message. When the messages are displayed, the identifiers are removed. In front of the identifiers is a number that reflects the order of the messages.\n",
    "\n",
    "<table style=\"border-collapse: collapse;\">\n",
    "    <caption style=\"color: black; font-weight: bold; text-align: center;\">The Chat History List</caption>\n",
    "    <tr>\n",
    "        <th style = \"text-align: left\">String</th>\n",
    "        <th style = \"text-align: left\">Message Output</th>\n",
    "        <th style = \"text-align: left\">Identifier</th>\n",
    "    </tr>\n",
    "    <tr>\n",
    "        <td>1s: im going to the store do you want anything?</td>\n",
    "        <td>im going to the store do you want anything?</td>\n",
    "        <td>sent</td>\n",
    "    </tr>\n",
    "    <tr>\n",
    "        <td style = \"text-align: left\">2r: No</td>\n",
    "        <td style = \"text-align: left\">No</td>\n",
    "        <td>received</td>\n",
    "    </tr>\n",
    "    <tr>\n",
    "        <td style = \"text-align: left\">3r: Wait actually can you get some potatoes?</td>\n",
    "        <td style = \"text-align: left\">Wait actually can you get some potatoes?</td>\n",
    "        <td>recieved</td>\n",
    "    </tr>\n",
    "    <tr>\n",
    "        <td style = \"text-align: left\">4s: wait but we already have potatoes at home</td>\n",
    "        <td style = \"text-align: left\">wait but we already have potatoes at home</td>\n",
    "        <td>sent</td>\n",
    "    </tr>\n",
    "    <tr>\n",
    "        <td style = \"text-align: left\">5r: Yeah but I ate them all yesterday</td>\n",
    "        <td style = \"text-align: left\">Yeah but I ate them all yesterday</td>\n",
    "        <td>received</td>\n",
    "    </tr>\n",
    "    <tr>\n",
    "        <td style = \"text-align: left\">6s: there were ten potatoes left...</td>\n",
    "        <td style = \"text-align: left\">there were ten potatoes left...</td>\n",
    "        <td>sent</td>\n",
    "    </tr>\n",
    "    <tr>\n",
    "        <td style = \"text-align: left\">7r: 🍟🍟🍟🍟🍟🍟🍟🍟🍟🍟\n",
    "🤤🤰</td>\n",
    "        <td style = \"text-align: left\">🍟🍟🍟🍟🍟🍟🍟🍟🍟🍟\n",
    "🤤🤰</td>\n",
    "        <td>sent</td>\n",
    "    </tr>\n",
    "</table>\n",
    "\n",
    "**Knowing this information, can you fix the bugged chat history list so that it contains no duplicates of the text messages? The order of the messages does not matter.** Test your code using the function displayChat(), which accepts any iterable collection."
   ]
  },
  {
   "cell_type": "code",
   "execution_count": 78,
   "metadata": {},
   "outputs": [
    {
     "data": {
      "text/html": [
       "<p style = 'text-align: center; background-color: #147efb; color: white; padding: 10px; margin-left:66%; border-radius: 7px'> im going to the store do you want anything?</p><p style = 'text-align: center; background-color: #147efb; color: white; padding: 10px; margin-left:66%; border-radius: 7px'> im going to the store do you want anything?</p><p style = 'text-align: center; background-color: lightgray; padding: 10px; margin-right: 66%; border-radius: 7px'> No</p><p style = 'text-align: center; background-color: lightgray; padding: 10px; margin-right: 66%; border-radius: 7px'> Wait actually can you get some potatoes?</p><p style = 'text-align: center; background-color: lightgray; padding: 10px; margin-right: 66%; border-radius: 7px'> Wait actually can you get some potatoes?</p><p style = 'text-align: center; background-color: #147efb; color: white; padding: 10px; margin-left:66%; border-radius: 7px'> wait but we already have potatoes at home</p><p style = 'text-align: center; background-color: #147efb; color: white; padding: 10px; margin-left:66%; border-radius: 7px'> wait but we already have potatoes at home</p><p style = 'text-align: center; background-color: lightgray; padding: 10px; margin-right: 66%; border-radius: 7px'> Yeah but I ate them all yesterday</p><p style = 'text-align: center; background-color: #147efb; color: white; padding: 10px; margin-left:66%; border-radius: 7px'> there were ten potatoes left...</p><p style = 'text-align: center; background-color: lightgray; padding: 10px; margin-right: 66%; border-radius: 7px'> 🍟🍟🍟🍟🍟🍟🍟🍟🍟🍟 🤤🤰</p><p style = 'text-align: center; background-color: lightgray; padding: 10px; margin-right: 66%; border-radius: 7px'> 🍟🍟🍟🍟🍟🍟🍟🍟🍟🍟 🤤🤰</p>"
      ],
      "text/plain": [
       "<IPython.core.display.HTML object>"
      ]
     },
     "metadata": {},
     "output_type": "display_data"
    }
   ],
   "source": [
    "bugged_chat_history = [\"1s: im going to the store do you want anything?\", \n",
    "                       \"1s: im going to the store do you want anything?\",\n",
    "                       \"2r: No\", \"3r: Wait actually can you get some potatoes?\", \n",
    "                       \"3r: Wait actually can you get some potatoes?\", \"4s: wait but we already have potatoes at home\", \n",
    "                       \"4s: wait but we already have potatoes at home\",\n",
    "                       \"5r: Yeah but I ate them all yesterday\",\"6s: there were ten potatoes left...\",\n",
    "                       \"7r: 🍟🍟🍟🍟🍟🍟🍟🍟🍟🍟 🤤🤰\", \"7r: 🍟🍟🍟🍟🍟🍟🍟🍟🍟🍟 🤤🤰\" ]\n",
    "# Do not change the original list!\n",
    "# Write your code here:\n",
    "\n",
    "\n",
    "def displayChat(chat_history):\n",
    "    output = \"\";\n",
    "    sorted_list = list(chat_history)\n",
    "    sorted_list.sort()\n",
    "    for x in sorted_list:\n",
    "        if x[1:3] == \"r:\":\n",
    "            output += f\"<p style = 'text-align: center; background-color: lightgray; padding: 10px; margin-right: 66%; border-radius: 7px'>{x[3:]}</p>\"\n",
    "        else:\n",
    "            output += f\"<p style = 'text-align: center; background-color: #147efb; color: white; padding: 10px; margin-left:66%; border-radius: 7px'>{x[3:]}</p>\"\n",
    "    display(HTML(output))\n",
    "\n",
    "displayChat(bugged_chat_history)"
   ]
  },
  {
   "cell_type": "markdown",
   "metadata": {},
   "source": [
    "<a style = \"color:gray\" href = \"#top\">Return to the Table of Contents</a>"
   ]
  },
  {
   "cell_type": "code",
   "execution_count": 87,
   "metadata": {},
   "outputs": [
    {
     "data": {
      "text/html": [
       "<h2>Answer to Challenge 5</h2><hr>"
      ],
      "text/plain": [
       "<IPython.core.display.HTML object>"
      ]
     },
     "metadata": {},
     "output_type": "display_data"
    },
    {
     "data": {
      "application/vnd.jupyter.widget-view+json": {
       "model_id": "979cb54da2174362bdceb5ab9a219945",
       "version_major": 2,
       "version_minor": 0
      },
      "text/plain": [
       "Button(description='Answer to #5', style=ButtonStyle())"
      ]
     },
     "metadata": {},
     "output_type": "display_data"
    },
    {
     "data": {
      "application/vnd.jupyter.widget-view+json": {
       "model_id": "bba7490026ea45ebb0c6577a3fd442bf",
       "version_major": 2,
       "version_minor": 0
      },
      "text/plain": [
       "Output()"
      ]
     },
     "metadata": {},
     "output_type": "display_data"
    },
    {
     "data": {
      "text/html": [
       "<script>\n",
       "code_show=true;\n",
       "function code_toggle() {\n",
       "    if (code_show){\n",
       "        $('div.cell.code_cell.rendered.selected div.input').hide();\n",
       "    } else {\n",
       "        $('div.cell.code_cell.rendered.selected div.input').show();\n",
       "    }\n",
       "    code_show = !code_show\n",
       "} \n",
       "$( document ).ready(code_toggle);\n",
       "</script>\n",
       "Don't look, but I've hidden this cell's code (I didn't want to spoil the answers). If you're curious, you can click <a href=\"javascript:code_toggle()\">here</a> to look at the contents\n"
      ],
      "text/plain": [
       "<IPython.core.display.HTML object>"
      ]
     },
     "metadata": {},
     "output_type": "display_data"
    }
   ],
   "source": [
    "tag = HTML('''<script>\n",
    "code_show=true;\n",
    "function code_toggle() {\n",
    "    if (code_show){\n",
    "        $('div.cell.code_cell.rendered.selected div.input').hide();\n",
    "    } else {\n",
    "        $('div.cell.code_cell.rendered.selected div.input').show();\n",
    "    }\n",
    "    code_show = !code_show\n",
    "} \n",
    "$( document ).ready(code_toggle);\n",
    "</script>\n",
    "Don't look, but I've hidden this cell's code (I didn't want to spoil the answers). If you're curious, you can click <a href=\"javascript:code_toggle()\">here</a> to look at the contents\n",
    "''')\n",
    "############### Actual Code ##################\n",
    "answer_button_1 = widgets.Button(\n",
    "    description=\"Answer to #5\"\n",
    ")\n",
    "def challenge_1(b):\n",
    "    with output:\n",
    "        output.clear_output()\n",
    "        print(\"bugged_chat_history = set(bugged_chat_history)\")\n",
    "answer_button_1.on_click(challenge_1)\n",
    "answer_button_2.on_click(challenge_2)\n",
    "output = widgets.Output()\n",
    "display(HTML(\"<h2>Answer to Challenge 5</h2><hr>\"),answer_button_1, output, tag)\n"
   ]
  },
  {
   "cell_type": "markdown",
   "metadata": {},
   "source": [
    "## Dictionaries <a id = \"link4\"></a>\n",
    "\n",
    "A dictionary is a collection which is unordered, changeable and indexed. In Python dictionaries are written with curly brackets, and they have keys and values.\n",
    "\n",
    "### Creating a Dictionary <a id = \"link4a\"></a>\n",
    "Dictionaries take pairs of elements. You separate each element with a colon, :, and each pair of elements with a comma."
   ]
  },
  {
   "cell_type": "code",
   "execution_count": 94,
   "metadata": {},
   "outputs": [
    {
     "name": "stdout",
     "output_type": "stream",
     "text": [
      "{'key1': 'value1', 'key2': 'value2', 'key3': 'value3'}\n"
     ]
    }
   ],
   "source": [
    "my_dict = {\"key1\": \"value1\", \"key2\": \"value2\", \"key3\": \"value3\"}\n",
    "print(my_dict)"
   ]
  },
  {
   "cell_type": "markdown",
   "metadata": {},
   "source": [
    "<a style = \"color:gray\" href = \"#top\">Return to the Table of Contents</a>"
   ]
  },
  {
   "cell_type": "markdown",
   "metadata": {},
   "source": [
    "### Accessing Items <a id = \"link4b\"></a>\n",
    "Each pair consists of a **key** and a **value**. We use the key, the element that comes first, to grab its related value through indexing or the get() method"
   ]
  },
  {
   "cell_type": "code",
   "execution_count": 95,
   "metadata": {},
   "outputs": [
    {
     "data": {
      "text/plain": [
       "'value1'"
      ]
     },
     "execution_count": 95,
     "metadata": {},
     "output_type": "execute_result"
    }
   ],
   "source": [
    "my_dict[\"key1\"]"
   ]
  },
  {
   "cell_type": "code",
   "execution_count": 96,
   "metadata": {},
   "outputs": [
    {
     "data": {
      "text/plain": [
       "'value2'"
      ]
     },
     "execution_count": 96,
     "metadata": {},
     "output_type": "execute_result"
    }
   ],
   "source": [
    "my_dict.get(\"key2\")"
   ]
  },
  {
   "cell_type": "markdown",
   "metadata": {},
   "source": [
    "<a style = \"color:gray\" href = \"#top\">Return to the Table of Contents</a>"
   ]
  },
  {
   "cell_type": "markdown",
   "metadata": {},
   "source": [
    "### Adding items <a id = \"link4c\"></a>\n",
    "To add a new item, you create an index that doesn't exist, and assign it a value:"
   ]
  },
  {
   "cell_type": "code",
   "execution_count": 97,
   "metadata": {},
   "outputs": [
    {
     "data": {
      "text/plain": [
       "{'key1': 'value1',\n",
       " 'key2': 'value2',\n",
       " 'key3': 'value3',\n",
       " 'added_key': 'added_value'}"
      ]
     },
     "execution_count": 97,
     "metadata": {},
     "output_type": "execute_result"
    }
   ],
   "source": [
    "my_dict[\"added_key\"] = \"added_value\"\n",
    "my_dict"
   ]
  },
  {
   "cell_type": "markdown",
   "metadata": {},
   "source": [
    "<a style = \"color:gray\" href = \"#top\">Return to the Table of Contents</a>"
   ]
  },
  {
   "cell_type": "markdown",
   "metadata": {},
   "source": [
    "### Removing Items <a id = \"link4d\"></a>\n",
    "To remove an item, you have to call the .pop(), which takes in a key name and removes that item from the dictionary. Here we'll remove the pair \"key1\":\"value1\" from the dictionary:"
   ]
  },
  {
   "cell_type": "code",
   "execution_count": 99,
   "metadata": {},
   "outputs": [
    {
     "data": {
      "text/plain": [
       "'value1'"
      ]
     },
     "execution_count": 99,
     "metadata": {},
     "output_type": "execute_result"
    }
   ],
   "source": [
    "my_dict.pop(\"key1\")"
   ]
  },
  {
   "cell_type": "markdown",
   "metadata": {},
   "source": [
    "Notice how the .pop() function of the dictionary **returns** the value of the pair of elements it removes just like the .pop() function does for lists."
   ]
  },
  {
   "cell_type": "code",
   "execution_count": 100,
   "metadata": {},
   "outputs": [
    {
     "data": {
      "text/plain": [
       "{'key2': 'value2', 'key3': 'big red fish', 'added_key': 'added_value'}"
      ]
     },
     "execution_count": 100,
     "metadata": {},
     "output_type": "execute_result"
    }
   ],
   "source": [
    "# even though only value1 is returned, the entire pair is removed\n",
    "my_dict"
   ]
  },
  {
   "cell_type": "markdown",
   "metadata": {},
   "source": [
    "<a style = \"color:gray\" href = \"#top\">Return to the Table of Contents</a>"
   ]
  },
  {
   "cell_type": "markdown",
   "metadata": {},
   "source": [
    "### .clear() <a id = \"link4e\"></a>\n",
    "The .clear() method gets rid of everything inside of the dictionary"
   ]
  },
  {
   "cell_type": "code",
   "execution_count": 101,
   "metadata": {},
   "outputs": [
    {
     "data": {
      "text/plain": [
       "{}"
      ]
     },
     "execution_count": 101,
     "metadata": {},
     "output_type": "execute_result"
    }
   ],
   "source": [
    "my_dict2 = {\"key\":11234, \"key2\":2253, \"key3\":10192}\n",
    "my_dict2.clear()\n",
    "my_dict2"
   ]
  },
  {
   "cell_type": "markdown",
   "metadata": {},
   "source": [
    "<a style = \"color:gray\" href = \"#top\">Return to the Table of Contents</a>"
   ]
  },
  {
   "cell_type": "markdown",
   "metadata": {},
   "source": [
    "### Changing Values and Keys <a id = \"link4f\"></a>\n",
    "Changing a value is straightforward: use the key like an index number and reassign its value"
   ]
  },
  {
   "cell_type": "code",
   "execution_count": 98,
   "metadata": {},
   "outputs": [
    {
     "data": {
      "text/plain": [
       "{'key1': 'value1',\n",
       " 'key2': 'value2',\n",
       " 'key3': 'big red fish',\n",
       " 'added_key': 'added_value'}"
      ]
     },
     "execution_count": 98,
     "metadata": {},
     "output_type": "execute_result"
    }
   ],
   "source": [
    "my_dict[\"key3\"] = \"big red fish\"\n",
    "my_dict"
   ]
  },
  {
   "cell_type": "markdown",
   "metadata": {},
   "source": [
    "Changing the key is less straightforward. There's no method to do so. The easiest way to change a key is to rely on the **.pop()** method, which, if you remember, returns the value of the item it removes. \n",
    "\n",
    "Using that return value, we can add the value under a new key name:"
   ]
  },
  {
   "cell_type": "code",
   "execution_count": 91,
   "metadata": {},
   "outputs": [
    {
     "data": {
      "text/plain": [
       "{'key1': 'value1', 'key3': 'big red fish', 'new_key2': 'value2'}"
      ]
     },
     "execution_count": 91,
     "metadata": {},
     "output_type": "execute_result"
    }
   ],
   "source": [
    "my_dict[\"new_key2\"] = my_dict.pop(\"key2\")\n",
    "my_dict"
   ]
  },
  {
   "cell_type": "markdown",
   "metadata": {},
   "source": [
    "<a style = \"color:gray\" href = \"#top\">Return to the Table of Contents</a>"
   ]
  },
  {
   "cell_type": "markdown",
   "metadata": {},
   "source": [
    "### Extrapolating/Filtering Data from a Dictionary <a id = \"link4g\"></a>\n",
    ".items(), .keys(), and .values() allows you to extrapolate data, essentially giving you a new \"view\" of your dictionary by returning a list of specified items.\n",
    "#### .keys() <a id = \"link4gi\"></a>\n",
    ".keys() returns a list of all of the keys inside of dictionary"
   ]
  },
  {
   "cell_type": "code",
   "execution_count": 110,
   "metadata": {},
   "outputs": [
    {
     "name": "stdout",
     "output_type": "stream",
     "text": [
      "dict_keys(['Xiaoping', 'Aya', 'Lily', 'Adnan', 'Lukas'])\n"
     ]
    },
    {
     "data": {
      "text/plain": [
       "['Xiaoping', 'Aya', 'Lily', 'Adnan', 'Lukas']"
      ]
     },
     "execution_count": 110,
     "metadata": {},
     "output_type": "execute_result"
    }
   ],
   "source": [
    "# here's an example of a dictionary of contacts\n",
    "my_contacts = {\"Xiaoping\": \"516-222-231x\",\n",
    "              \"Aya\": \"718-223-139x\",\n",
    "              \"Lily\": \"532-242-331x\",\n",
    "              \"Adnan\": \"132-242-424x\",\n",
    "              \"Lukas\": \"934-424-111x\"}\n",
    "# we can use .keys() to get all of the names\n",
    "print(my_contacts.keys())\n",
    "# notice how it's a dict_keys type and not an actual list!\n",
    "# we can fix this using type casting:\n",
    "names = list(my_contacts.keys())\n",
    "names"
   ]
  },
  {
   "cell_type": "markdown",
   "metadata": {},
   "source": [
    "<a style = \"color:gray\" href = \"#top\">Return to the Table of Contents</a>"
   ]
  },
  {
   "cell_type": "markdown",
   "metadata": {},
   "source": [
    "#### .values() <a id = \"link4gii\"></a>\n",
    ".values() returns a list of all of the values inside of a dictionary"
   ]
  },
  {
   "cell_type": "code",
   "execution_count": 112,
   "metadata": {},
   "outputs": [
    {
     "data": {
      "text/plain": [
       "['516-222-231x',\n",
       " '718-223-139x',\n",
       " '532-242-331x',\n",
       " '132-242-424x',\n",
       " '934-424-111x']"
      ]
     },
     "execution_count": 112,
     "metadata": {},
     "output_type": "execute_result"
    }
   ],
   "source": [
    "# now let's get the phone numbers\n",
    "phone_numbers = list(my_contacts.values())\n",
    "phone_numbers"
   ]
  },
  {
   "cell_type": "markdown",
   "metadata": {},
   "source": [
    "<a style = \"color:gray\" href = \"#top\">Return to the Table of Contents</a>"
   ]
  },
  {
   "cell_type": "markdown",
   "metadata": {},
   "source": [
    "#### .items() <a id = \"link4giii\"></a>\n",
    ".items() returns a list of tuple pairs from the dictionary elements"
   ]
  },
  {
   "cell_type": "code",
   "execution_count": 118,
   "metadata": {},
   "outputs": [
    {
     "data": {
      "text/plain": [
       "[('Xiaoping', '516-222-231x'),\n",
       " ('Aya', '718-223-139x'),\n",
       " ('Lily', '532-242-331x'),\n",
       " ('Adnan', '132-242-424x'),\n",
       " ('Lukas', '934-424-111x')]"
      ]
     },
     "execution_count": 118,
     "metadata": {},
     "output_type": "execute_result"
    }
   ],
   "source": [
    "my_contacts_tuples = list(my_contacts.items())\n",
    "my_contacts_tuples"
   ]
  },
  {
   "cell_type": "markdown",
   "metadata": {},
   "source": [
    "Remember **tuple unpacking and assignment**? We can make use of that here:"
   ]
  },
  {
   "cell_type": "code",
   "execution_count": 120,
   "metadata": {},
   "outputs": [
    {
     "name": "stdout",
     "output_type": "stream",
     "text": [
      "Xiaoping\n",
      "516-222-231x\n"
     ]
    }
   ],
   "source": [
    "firstname, firstphone = my_contacts_tuples[0]\n",
    "print(firstname)\n",
    "print(firstphone)"
   ]
  },
  {
   "cell_type": "markdown",
   "metadata": {},
   "source": [
    "<a style = \"color:gray\" href = \"#top\">Return to the Table of Contents</a>"
   ]
  },
  {
   "cell_type": "markdown",
   "metadata": {},
   "source": [
    "## Challenge 6: DT Bank (Easier) <a id = \"link4h\"></a>\n",
    "A european bank has organized their system as a python dictionary with credit card numbers as keys, and their remaining balances as values. The following table lists the (fake) credit cards of several DT Bank members: \n",
    "<table style=\"border-collapse: collapse;\">\n",
    "    <caption style=\"color: green; font-weight: bold; text-align: center;\">DT Bank</caption>\n",
    "    <tr>\n",
    "        <th style = \"text-align: left\">Credit Card</th>\n",
    "        <th style = \"text-align: left\">Balance</th>\n",
    "    </tr>\n",
    "    <tr>\n",
    "        <td>5112-2222-2213-1120</td>\n",
    "        <td>€19120</td>\n",
    "    </tr>\n",
    "    <tr>\n",
    "        <td>6422-2422-5213-1130</td>\n",
    "        <td>€2300</td>\n",
    "    </tr>\n",
    "    <tr>\n",
    "        <td>8832-2122-5413-1530</td>\n",
    "        <td>€550</td>\n",
    "    </tr>\n",
    "</table>\n",
    "\n",
    "(a) A person enters the bank and applies for a credit card and deposits €50. Add a new credit card with the number \"2233-2221-1220-6930\" and the deposited amount to the dictionary\n"
   ]
  },
  {
   "cell_type": "code",
   "execution_count": 129,
   "metadata": {},
   "outputs": [],
   "source": [
    "bank_cards = {\"5112-2222-2213-1120\":19120, \n",
    "              \"6422-2422-5213-1130\":2300,\n",
    "              \"8832-2122-5413-1530\":550}\n",
    "# write your code here:\n"
   ]
  },
  {
   "cell_type": "markdown",
   "metadata": {},
   "source": [
    "(b) The man with the credit card number \"5112-2222-2213-1120\" asks for a new number. Reassign his credit card number to a new number of your choice while preserving his balance:"
   ]
  },
  {
   "cell_type": "code",
   "execution_count": 131,
   "metadata": {},
   "outputs": [],
   "source": [
    "# write your code here:\n"
   ]
  },
  {
   "cell_type": "markdown",
   "metadata": {},
   "source": [
    "<a style = \"color:gray\" href = \"#top\">Return to the Table of Contents</a>"
   ]
  },
  {
   "cell_type": "markdown",
   "metadata": {},
   "source": [
    "## Challenge 7: DT Bank (Harder) <a id = \"link4i\"></a>\n",
    "(c) Transfer €500 from the card with the number \"6422-2422-5213-1130\" to the card with the number \"8832-2122-5413-1530\"."
   ]
  },
  {
   "cell_type": "code",
   "execution_count": 132,
   "metadata": {},
   "outputs": [],
   "source": [
    "# write your code below:\n"
   ]
  },
  {
   "cell_type": "markdown",
   "metadata": {},
   "source": [
    "(d) DT Bank has a .5% yearly interest rate. This means that all balances in the bank system increase by .5%. Make this change:"
   ]
  },
  {
   "cell_type": "code",
   "execution_count": 133,
   "metadata": {},
   "outputs": [],
   "source": [
    "# write your code below:"
   ]
  },
  {
   "cell_type": "markdown",
   "metadata": {},
   "source": [
    "<a style = \"color:gray\" href = \"#top\">Return to the Table of Contents</a>"
   ]
  },
  {
   "cell_type": "code",
   "execution_count": 135,
   "metadata": {},
   "outputs": [
    {
     "data": {
      "text/html": [
       "<h2>Answers to Challenges</h2><hr>"
      ],
      "text/plain": [
       "<IPython.core.display.HTML object>"
      ]
     },
     "metadata": {},
     "output_type": "display_data"
    },
    {
     "data": {
      "application/vnd.jupyter.widget-view+json": {
       "model_id": "e6f51d65db8b4be3a17291b1f3038e38",
       "version_major": 2,
       "version_minor": 0
      },
      "text/plain": [
       "Button(description='Answers to #6', style=ButtonStyle())"
      ]
     },
     "metadata": {},
     "output_type": "display_data"
    },
    {
     "data": {
      "application/vnd.jupyter.widget-view+json": {
       "model_id": "cc516f77b7684430851d8a1f416518b8",
       "version_major": 2,
       "version_minor": 0
      },
      "text/plain": [
       "Button(description='Answers to #7', style=ButtonStyle())"
      ]
     },
     "metadata": {},
     "output_type": "display_data"
    },
    {
     "data": {
      "application/vnd.jupyter.widget-view+json": {
       "model_id": "82f0d97915ae4f2d86e3fd60623bb477",
       "version_major": 2,
       "version_minor": 0
      },
      "text/plain": [
       "Output()"
      ]
     },
     "metadata": {},
     "output_type": "display_data"
    },
    {
     "data": {
      "text/html": [
       "<script>\n",
       "code_show=true;\n",
       "function code_toggle() {\n",
       "    if (code_show){\n",
       "        $('div.cell.code_cell.rendered.selected div.input').hide();\n",
       "    } else {\n",
       "        $('div.cell.code_cell.rendered.selected div.input').show();\n",
       "    }\n",
       "    code_show = !code_show\n",
       "} \n",
       "$( document ).ready(code_toggle);\n",
       "</script>\n",
       "Don't look, but I've hidden this cell's code (I didn't want to spoil the answers). If you're curious, you can click <a href=\"javascript:code_toggle()\">here</a> to look at the contents\n"
      ],
      "text/plain": [
       "<IPython.core.display.HTML object>"
      ]
     },
     "metadata": {},
     "output_type": "display_data"
    }
   ],
   "source": [
    "tag = HTML('''<script>\n",
    "code_show=true;\n",
    "function code_toggle() {\n",
    "    if (code_show){\n",
    "        $('div.cell.code_cell.rendered.selected div.input').hide();\n",
    "    } else {\n",
    "        $('div.cell.code_cell.rendered.selected div.input').show();\n",
    "    }\n",
    "    code_show = !code_show\n",
    "} \n",
    "$( document ).ready(code_toggle);\n",
    "</script>\n",
    "Don't look, but I've hidden this cell's code (I didn't want to spoil the answers). If you're curious, you can click <a href=\"javascript:code_toggle()\">here</a> to look at the contents\n",
    "''')\n",
    "############### Actual Code ##################\n",
    "answer_button_1 = widgets.Button(\n",
    "    description=\"Answers to #6\"\n",
    ")\n",
    "answer_button_2 = widgets.Button(\n",
    "    description=\"Answers to #7\"\n",
    ")\n",
    "def challenge_1(b):\n",
    "    with output:\n",
    "        output.clear_output()\n",
    "        print(\"\"\"\n",
    "        (a) bank_cards[\"2233-2221-1220-6930\"] = 50\n",
    "        (b) bank_cards[\"4224-2424-2421-2201\"] = bank_cards.pop(\"5112-2222-2213-1120\")\n",
    "        \"\"\")\n",
    "def challenge_2(b):\n",
    "    with output:\n",
    "        output.clear_output()\n",
    "        print(\"\"\"\n",
    "        (c) bank_cards[\"6422-2422-5213-1130\"] -= 500 \n",
    "            bank_cards[\"8832-2122-5413-1530\"] += 500\n",
    "        (d) card_nums = list(bank_cards.keys())\n",
    "            bank_cards[card_nums[0]] *= 1.005\n",
    "            bank_cards[card_nums[1]] *= 1.005\n",
    "            bank_cards[card_nums[2]] *= 1.005\n",
    "            bank_cards[card_nums[3]] *= 1.005\n",
    "        \"\"\")\n",
    "answer_button_1.on_click(challenge_1)\n",
    "answer_button_2.on_click(challenge_2)\n",
    "output = widgets.Output()\n",
    "display(HTML(\"<h2>Answers to Challenges</h2><hr>\"),answer_button_1, answer_button_2, output, tag)"
   ]
  }
 ],
 "metadata": {
  "kernelspec": {
   "display_name": "Python 3",
   "language": "python",
   "name": "python3"
  },
  "language_info": {
   "codemirror_mode": {
    "name": "ipython",
    "version": 3
   },
   "file_extension": ".py",
   "mimetype": "text/x-python",
   "name": "python",
   "nbconvert_exporter": "python",
   "pygments_lexer": "ipython3",
   "version": "3.7.4"
  }
 },
 "nbformat": 4,
 "nbformat_minor": 2
}
